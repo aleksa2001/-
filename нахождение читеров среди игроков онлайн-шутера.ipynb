{
 "cells": [
  {
   "cell_type": "markdown",
   "id": "21956bc5",
   "metadata": {},
   "source": [
    "# Описание проекта\n",
    "Есть компания, которая разрабатывает игры.Основной хит — бесплатный командный онлайн-шутер. В игре есть внутриигровая валюта, которую можно выигрывать,побеждая в матчах, а можно покупать за настоящие деньги.\r\n",
    "На днях в игре прошёл A/B-тест — некоторые игроки могли приобрести премиунуню броню по скидке.руководство хочет узнать, как это повлияло на ARPU (средя \r\n",
    "прибыль на игрока), ARPPU (средняя прибыль на плащетягогигрока) икна траты внутриигровой валюты\n",
    "# Цель исследования\n",
    "\n",
    "Выяснить, стоит ли проводить акцию в дальнейшем. Если игроки, участвовавшие в\r\n",
    "акции, принесли больше денег, чем игроки, у которых акции не было, то стоит\r\n",
    "повторять акцию и при этомвсех игроках кав:проведение исследовательского анализа данных<br>\n",
    "проведение АВ-теста<br>\n",
    "\n",
    "По результатам исследования необходимо подготовить:<br>\n",
    "текстовый документ с подробным описанием проекта, расчётами и выводами<br>\n",
    "графики сравнения метрик по дням (Power BI)<br>\n",
    "\n",
    "Входные данные<br>\n",
    "Датасеты содержат данные об игроках:<br>\n",
    "Money — таблица с платежами.<br>\n",
    "● Cheaters — таблица с обнаруженными читерами.<br>\n",
    "● Platforms — таблица с игровыми платформами (PC, PS4, Xbox).<br>\n",
    "● Cash — таблица с тратами внутриигровой валюты.<br>\n",
    "● ABgroup — таблица с распределением игроков по группам тенет.\r\n"
   ]
  },
  {
   "cell_type": "code",
   "execution_count": 1,
   "id": "6c2cacf1",
   "metadata": {},
   "outputs": [],
   "source": [
    "import warnings \n",
    "warnings.filterwarnings('ignore')\n",
    "import pandas as pd\n",
    "import numpy as np\n",
    "import seaborn as sns\n",
    "import datetime as dt\n",
    "from scipy import stats as st\n",
    "from statsmodels.graphics.tsaplots import plot_acf,plot_pacf\n",
    "import statsmodels.api as sm\n",
    "import math as mth\n",
    "import plotly.express as px\n",
    "import matplotlib.pyplot as plt\n",
    "from sklearn.linear_model import LinearRegression, LogisticRegression\n",
    "from sklearn.metrics import r2_score\n",
    "from sklearn.model_selection import cross_validate\n",
    "from sklearn.model_selection import train_test_split\n",
    "plt.style.use('ggplot')\n",
    "from sklearn import metrics \n",
    "from plotly import graph_objects as go\n",
    "from sklearn.metrics import roc_auc_score\n",
    "from sklearn.metrics import roc_curve\n",
    "import statsmodels.api as sm\n",
    "from scipy.stats import kurtosis\n",
    "from scipy.stats import skew"
   ]
  },
  {
   "cell_type": "markdown",
   "id": "9ae8224e",
   "metadata": {},
   "source": [
    "## ШАГ 1. Загрузка данных и изучение общей информации"
   ]
  },
  {
   "cell_type": "code",
   "execution_count": 2,
   "id": "166be966",
   "metadata": {},
   "outputs": [],
   "source": [
    "ABgroup = pd.read_csv('ABgroup.csv', sep=',')\n",
    "cash = pd.read_csv('Cash.csv', sep=',')\n",
    "money = pd.read_csv('Money.csv', sep=',')\n",
    "cheaters = pd.read_csv('Cheaters.csv', sep=',')\n",
    "platforms = pd.read_csv('Platforms.csv', sep=',')"
   ]
  },
  {
   "cell_type": "code",
   "execution_count": 3,
   "id": "3b024579-bf61-4d63-8a21-6f52eeb20dce",
   "metadata": {},
   "outputs": [
    {
     "data": {
      "text/html": [
       "<div>\n",
       "<style scoped>\n",
       "    .dataframe tbody tr th:only-of-type {\n",
       "        vertical-align: middle;\n",
       "    }\n",
       "\n",
       "    .dataframe tbody tr th {\n",
       "        vertical-align: top;\n",
       "    }\n",
       "\n",
       "    .dataframe thead th {\n",
       "        text-align: right;\n",
       "    }\n",
       "</style>\n",
       "<table border=\"1\" class=\"dataframe\">\n",
       "  <thead>\n",
       "    <tr style=\"text-align: right;\">\n",
       "      <th></th>\n",
       "      <th>user_id</th>\n",
       "      <th>group</th>\n",
       "    </tr>\n",
       "  </thead>\n",
       "  <tbody>\n",
       "    <tr>\n",
       "      <th>0</th>\n",
       "      <td>VX6NLA-F5YMSW</td>\n",
       "      <td>control</td>\n",
       "    </tr>\n",
       "    <tr>\n",
       "      <th>1</th>\n",
       "      <td>2AXN3D-71ZN86</td>\n",
       "      <td>test</td>\n",
       "    </tr>\n",
       "    <tr>\n",
       "      <th>2</th>\n",
       "      <td>K78V3J-TQMV6F</td>\n",
       "      <td>test</td>\n",
       "    </tr>\n",
       "    <tr>\n",
       "      <th>3</th>\n",
       "      <td>Z2KEIG-LY3V4H</td>\n",
       "      <td>test</td>\n",
       "    </tr>\n",
       "    <tr>\n",
       "      <th>4</th>\n",
       "      <td>ND92RZ-SHG980</td>\n",
       "      <td>control</td>\n",
       "    </tr>\n",
       "  </tbody>\n",
       "</table>\n",
       "</div>"
      ],
      "text/plain": [
       "         user_id    group\n",
       "0  VX6NLA-F5YMSW  control\n",
       "1  2AXN3D-71ZN86     test\n",
       "2  K78V3J-TQMV6F     test\n",
       "3  Z2KEIG-LY3V4H     test\n",
       "4  ND92RZ-SHG980  control"
      ]
     },
     "execution_count": 3,
     "metadata": {},
     "output_type": "execute_result"
    }
   ],
   "source": [
    "ABgroup.head()"
   ]
  },
  {
   "cell_type": "code",
   "execution_count": 4,
   "id": "fa4fdffa-381b-46ed-ae1e-8512ecabd532",
   "metadata": {},
   "outputs": [
    {
     "data": {
      "text/html": [
       "<div>\n",
       "<style scoped>\n",
       "    .dataframe tbody tr th:only-of-type {\n",
       "        vertical-align: middle;\n",
       "    }\n",
       "\n",
       "    .dataframe tbody tr th {\n",
       "        vertical-align: top;\n",
       "    }\n",
       "\n",
       "    .dataframe thead th {\n",
       "        text-align: right;\n",
       "    }\n",
       "</style>\n",
       "<table border=\"1\" class=\"dataframe\">\n",
       "  <thead>\n",
       "    <tr style=\"text-align: right;\">\n",
       "      <th></th>\n",
       "      <th>user_id</th>\n",
       "      <th>date</th>\n",
       "      <th>cash</th>\n",
       "    </tr>\n",
       "  </thead>\n",
       "  <tbody>\n",
       "    <tr>\n",
       "      <th>0</th>\n",
       "      <td>GGLSXL-U5BGGY</td>\n",
       "      <td>17.07.2021</td>\n",
       "      <td>200</td>\n",
       "    </tr>\n",
       "    <tr>\n",
       "      <th>1</th>\n",
       "      <td>DPWFFN-NL3VF8</td>\n",
       "      <td>16.07.2021</td>\n",
       "      <td>150</td>\n",
       "    </tr>\n",
       "    <tr>\n",
       "      <th>2</th>\n",
       "      <td>PASNNG-GVW4RR</td>\n",
       "      <td>11.07.2021</td>\n",
       "      <td>1100</td>\n",
       "    </tr>\n",
       "    <tr>\n",
       "      <th>3</th>\n",
       "      <td>4F0AW7-F40GY9</td>\n",
       "      <td>15.07.2021</td>\n",
       "      <td>1050</td>\n",
       "    </tr>\n",
       "    <tr>\n",
       "      <th>4</th>\n",
       "      <td>CEY6AF-YTSM4V</td>\n",
       "      <td>15.07.2021</td>\n",
       "      <td>150</td>\n",
       "    </tr>\n",
       "  </tbody>\n",
       "</table>\n",
       "</div>"
      ],
      "text/plain": [
       "         user_id        date  cash\n",
       "0  GGLSXL-U5BGGY  17.07.2021   200\n",
       "1  DPWFFN-NL3VF8  16.07.2021   150\n",
       "2  PASNNG-GVW4RR  11.07.2021  1100\n",
       "3  4F0AW7-F40GY9  15.07.2021  1050\n",
       "4  CEY6AF-YTSM4V  15.07.2021   150"
      ]
     },
     "execution_count": 4,
     "metadata": {},
     "output_type": "execute_result"
    }
   ],
   "source": [
    "cash.head()"
   ]
  },
  {
   "cell_type": "code",
   "execution_count": 5,
   "id": "560a32ce-93e7-411e-8f0a-cb8a565e788f",
   "metadata": {},
   "outputs": [
    {
     "data": {
      "text/html": [
       "<div>\n",
       "<style scoped>\n",
       "    .dataframe tbody tr th:only-of-type {\n",
       "        vertical-align: middle;\n",
       "    }\n",
       "\n",
       "    .dataframe tbody tr th {\n",
       "        vertical-align: top;\n",
       "    }\n",
       "\n",
       "    .dataframe thead th {\n",
       "        text-align: right;\n",
       "    }\n",
       "</style>\n",
       "<table border=\"1\" class=\"dataframe\">\n",
       "  <thead>\n",
       "    <tr style=\"text-align: right;\">\n",
       "      <th></th>\n",
       "      <th>user_id</th>\n",
       "      <th>date</th>\n",
       "      <th>money</th>\n",
       "    </tr>\n",
       "  </thead>\n",
       "  <tbody>\n",
       "    <tr>\n",
       "      <th>0</th>\n",
       "      <td>N4TS2T-P7YTVX</td>\n",
       "      <td>15.07.2021</td>\n",
       "      <td>1.99</td>\n",
       "    </tr>\n",
       "    <tr>\n",
       "      <th>1</th>\n",
       "      <td>NX9S0D-VM20W8</td>\n",
       "      <td>16.07.2021</td>\n",
       "      <td>0.99</td>\n",
       "    </tr>\n",
       "    <tr>\n",
       "      <th>2</th>\n",
       "      <td>QYY6FW-FKHRND</td>\n",
       "      <td>15.07.2021</td>\n",
       "      <td>0.00</td>\n",
       "    </tr>\n",
       "    <tr>\n",
       "      <th>3</th>\n",
       "      <td>BRWH4Y-LPGBU6</td>\n",
       "      <td>14.07.2021</td>\n",
       "      <td>0.00</td>\n",
       "    </tr>\n",
       "    <tr>\n",
       "      <th>4</th>\n",
       "      <td>8O317F-4ASK53</td>\n",
       "      <td>13.07.2021</td>\n",
       "      <td>0.00</td>\n",
       "    </tr>\n",
       "  </tbody>\n",
       "</table>\n",
       "</div>"
      ],
      "text/plain": [
       "         user_id        date  money\n",
       "0  N4TS2T-P7YTVX  15.07.2021   1.99\n",
       "1  NX9S0D-VM20W8  16.07.2021   0.99\n",
       "2  QYY6FW-FKHRND  15.07.2021   0.00\n",
       "3  BRWH4Y-LPGBU6  14.07.2021   0.00\n",
       "4  8O317F-4ASK53  13.07.2021   0.00"
      ]
     },
     "execution_count": 5,
     "metadata": {},
     "output_type": "execute_result"
    }
   ],
   "source": [
    "money.head()"
   ]
  },
  {
   "cell_type": "code",
   "execution_count": 6,
   "id": "be6d2229-0d4f-445c-8af5-d20e3b7103fd",
   "metadata": {},
   "outputs": [
    {
     "data": {
      "text/html": [
       "<div>\n",
       "<style scoped>\n",
       "    .dataframe tbody tr th:only-of-type {\n",
       "        vertical-align: middle;\n",
       "    }\n",
       "\n",
       "    .dataframe tbody tr th {\n",
       "        vertical-align: top;\n",
       "    }\n",
       "\n",
       "    .dataframe thead th {\n",
       "        text-align: right;\n",
       "    }\n",
       "</style>\n",
       "<table border=\"1\" class=\"dataframe\">\n",
       "  <thead>\n",
       "    <tr style=\"text-align: right;\">\n",
       "      <th></th>\n",
       "      <th>user_id</th>\n",
       "      <th>cheaters</th>\n",
       "    </tr>\n",
       "  </thead>\n",
       "  <tbody>\n",
       "    <tr>\n",
       "      <th>0</th>\n",
       "      <td>TWLWB9-L19SYJ</td>\n",
       "      <td>0</td>\n",
       "    </tr>\n",
       "    <tr>\n",
       "      <th>1</th>\n",
       "      <td>SD0L4U-1JG4WN</td>\n",
       "      <td>0</td>\n",
       "    </tr>\n",
       "    <tr>\n",
       "      <th>2</th>\n",
       "      <td>QZVG35-P8JKNU</td>\n",
       "      <td>0</td>\n",
       "    </tr>\n",
       "    <tr>\n",
       "      <th>3</th>\n",
       "      <td>S2VBV4-ZKBHI6</td>\n",
       "      <td>0</td>\n",
       "    </tr>\n",
       "    <tr>\n",
       "      <th>4</th>\n",
       "      <td>DDGKMQ-45SP8R</td>\n",
       "      <td>0</td>\n",
       "    </tr>\n",
       "  </tbody>\n",
       "</table>\n",
       "</div>"
      ],
      "text/plain": [
       "         user_id  cheaters\n",
       "0  TWLWB9-L19SYJ         0\n",
       "1  SD0L4U-1JG4WN         0\n",
       "2  QZVG35-P8JKNU         0\n",
       "3  S2VBV4-ZKBHI6         0\n",
       "4  DDGKMQ-45SP8R         0"
      ]
     },
     "execution_count": 6,
     "metadata": {},
     "output_type": "execute_result"
    }
   ],
   "source": [
    "cheaters.head()"
   ]
  },
  {
   "cell_type": "code",
   "execution_count": 7,
   "id": "3e295907-7dcb-43fe-af7d-6a374dc97b12",
   "metadata": {},
   "outputs": [
    {
     "data": {
      "text/html": [
       "<div>\n",
       "<style scoped>\n",
       "    .dataframe tbody tr th:only-of-type {\n",
       "        vertical-align: middle;\n",
       "    }\n",
       "\n",
       "    .dataframe tbody tr th {\n",
       "        vertical-align: top;\n",
       "    }\n",
       "\n",
       "    .dataframe thead th {\n",
       "        text-align: right;\n",
       "    }\n",
       "</style>\n",
       "<table border=\"1\" class=\"dataframe\">\n",
       "  <thead>\n",
       "    <tr style=\"text-align: right;\">\n",
       "      <th></th>\n",
       "      <th>user_id</th>\n",
       "      <th>platform</th>\n",
       "    </tr>\n",
       "  </thead>\n",
       "  <tbody>\n",
       "    <tr>\n",
       "      <th>0</th>\n",
       "      <td>NHFL0F-Y90OSH</td>\n",
       "      <td>XBox</td>\n",
       "    </tr>\n",
       "    <tr>\n",
       "      <th>1</th>\n",
       "      <td>MVPNHS-PBHB8S</td>\n",
       "      <td>XBox</td>\n",
       "    </tr>\n",
       "    <tr>\n",
       "      <th>2</th>\n",
       "      <td>1UWMRN-8NVCLI</td>\n",
       "      <td>PC</td>\n",
       "    </tr>\n",
       "    <tr>\n",
       "      <th>3</th>\n",
       "      <td>EHO5II-03X9PU</td>\n",
       "      <td>PS4</td>\n",
       "    </tr>\n",
       "    <tr>\n",
       "      <th>4</th>\n",
       "      <td>7C5ZAE-D1NCY9</td>\n",
       "      <td>XBox</td>\n",
       "    </tr>\n",
       "  </tbody>\n",
       "</table>\n",
       "</div>"
      ],
      "text/plain": [
       "         user_id platform\n",
       "0  NHFL0F-Y90OSH     XBox\n",
       "1  MVPNHS-PBHB8S     XBox\n",
       "2  1UWMRN-8NVCLI       PC\n",
       "3  EHO5II-03X9PU      PS4\n",
       "4  7C5ZAE-D1NCY9     XBox"
      ]
     },
     "execution_count": 7,
     "metadata": {},
     "output_type": "execute_result"
    }
   ],
   "source": [
    "platforms.head()"
   ]
  },
  {
   "cell_type": "code",
   "execution_count": 8,
   "id": "06db20a0-8156-4943-9ebd-46b3ad1e608b",
   "metadata": {},
   "outputs": [],
   "source": [
    "frames = [ABgroup,cash,money,cheaters,platforms]"
   ]
  },
  {
   "cell_type": "code",
   "execution_count": 9,
   "id": "c18fa56c-182a-4969-9a20-986c4f62474a",
   "metadata": {},
   "outputs": [
    {
     "name": "stdout",
     "output_type": "stream",
     "text": [
      "              user_id    group\n",
      "count         8640000  8640000\n",
      "unique        1080000        2\n",
      "top     VX6NLA-F5YMSW  control\n",
      "freq                8  4322776\n",
      "               cash\n",
      "count  8.640000e+06\n",
      "mean   7.634015e+02\n",
      "std    8.836145e+02\n",
      "min    0.000000e+00\n",
      "25%    2.500000e+02\n",
      "50%    7.000000e+02\n",
      "75%    1.150000e+03\n",
      "max    1.482000e+05\n",
      "              money\n",
      "count  8.640000e+06\n",
      "mean   7.489878e-01\n",
      "std    7.922920e-01\n",
      "min    0.000000e+00\n",
      "25%    0.000000e+00\n",
      "50%    9.900000e-01\n",
      "75%    9.900000e-01\n",
      "max    9.990000e+00\n",
      "           cheaters\n",
      "count  8.640000e+06\n",
      "mean   3.268519e-04\n",
      "std    1.807609e-02\n",
      "min    0.000000e+00\n",
      "25%    0.000000e+00\n",
      "50%    0.000000e+00\n",
      "75%    0.000000e+00\n",
      "max    1.000000e+00\n",
      "              user_id platform\n",
      "count         8640000  8640000\n",
      "unique        1080000        3\n",
      "top     NHFL0F-Y90OSH     XBox\n",
      "freq                8  2884256\n"
     ]
    }
   ],
   "source": [
    "for i in frames:\n",
    "    print(i.describe())"
   ]
  },
  {
   "cell_type": "code",
   "execution_count": 10,
   "id": "3d6ee2a4-5086-47ed-8370-9384c7448c16",
   "metadata": {},
   "outputs": [
    {
     "name": "stdout",
     "output_type": "stream",
     "text": [
      "<class 'pandas.core.frame.DataFrame'>\n",
      "RangeIndex: 8640000 entries, 0 to 8639999\n",
      "Data columns (total 2 columns):\n",
      " #   Column   Dtype \n",
      "---  ------   ----- \n",
      " 0   user_id  object\n",
      " 1   group    object\n",
      "dtypes: object(2)\n",
      "memory usage: 131.8+ MB\n",
      "None\n",
      "<class 'pandas.core.frame.DataFrame'>\n",
      "RangeIndex: 8640000 entries, 0 to 8639999\n",
      "Data columns (total 3 columns):\n",
      " #   Column   Dtype \n",
      "---  ------   ----- \n",
      " 0   user_id  object\n",
      " 1   date     object\n",
      " 2   cash     int64 \n",
      "dtypes: int64(1), object(2)\n",
      "memory usage: 197.8+ MB\n",
      "None\n",
      "<class 'pandas.core.frame.DataFrame'>\n",
      "RangeIndex: 8640000 entries, 0 to 8639999\n",
      "Data columns (total 3 columns):\n",
      " #   Column   Dtype  \n",
      "---  ------   -----  \n",
      " 0   user_id  object \n",
      " 1   date     object \n",
      " 2   money    float64\n",
      "dtypes: float64(1), object(2)\n",
      "memory usage: 197.8+ MB\n",
      "None\n",
      "<class 'pandas.core.frame.DataFrame'>\n",
      "RangeIndex: 8640000 entries, 0 to 8639999\n",
      "Data columns (total 2 columns):\n",
      " #   Column    Dtype \n",
      "---  ------    ----- \n",
      " 0   user_id   object\n",
      " 1   cheaters  int64 \n",
      "dtypes: int64(1), object(1)\n",
      "memory usage: 131.8+ MB\n",
      "None\n",
      "<class 'pandas.core.frame.DataFrame'>\n",
      "RangeIndex: 8640000 entries, 0 to 8639999\n",
      "Data columns (total 2 columns):\n",
      " #   Column    Dtype \n",
      "---  ------    ----- \n",
      " 0   user_id   object\n",
      " 1   platform  object\n",
      "dtypes: object(2)\n",
      "memory usage: 131.8+ MB\n",
      "None\n"
     ]
    }
   ],
   "source": [
    "for i in frames:\n",
    "    print(i.info())"
   ]
  },
  {
   "cell_type": "code",
   "execution_count": 11,
   "id": "9566e3bb-ffa5-478a-995c-d9d189601592",
   "metadata": {},
   "outputs": [
    {
     "name": "stdout",
     "output_type": "stream",
     "text": [
      "8640000\n",
      "8640000\n",
      "8640000\n",
      "8640000\n",
      "8640000\n"
     ]
    }
   ],
   "source": [
    "for i in frames:\n",
    "    print(len(i))"
   ]
  },
  {
   "cell_type": "code",
   "execution_count": 12,
   "id": "9e200070-e754-4aba-9ac5-312db23d6a81",
   "metadata": {},
   "outputs": [
    {
     "data": {
      "text/plain": [
       "group\n",
       "control    4322776\n",
       "test       4317224\n",
       "Name: count, dtype: int64"
      ]
     },
     "execution_count": 12,
     "metadata": {},
     "output_type": "execute_result"
    }
   ],
   "source": [
    "ABgroup['group'].value_counts()"
   ]
  },
  {
   "cell_type": "code",
   "execution_count": 13,
   "id": "03271077-a939-45b9-96ff-3714ce362468",
   "metadata": {},
   "outputs": [
    {
     "data": {
      "text/plain": [
       "platform\n",
       "XBox    2884256\n",
       "PC      2881992\n",
       "PS4     2873752\n",
       "Name: count, dtype: int64"
      ]
     },
     "execution_count": 13,
     "metadata": {},
     "output_type": "execute_result"
    }
   ],
   "source": [
    "platforms['platform'].value_counts()"
   ]
  },
  {
   "cell_type": "code",
   "execution_count": 14,
   "id": "9a27ea30-beaa-42e5-9a0d-233afd463cfd",
   "metadata": {},
   "outputs": [
    {
     "data": {
      "text/plain": [
       "cheaters\n",
       "0    8637176\n",
       "1       2824\n",
       "Name: count, dtype: int64"
      ]
     },
     "execution_count": 14,
     "metadata": {},
     "output_type": "execute_result"
    }
   ],
   "source": [
    "cheaters['cheaters'].value_counts()"
   ]
  },
  {
   "cell_type": "code",
   "execution_count": 15,
   "id": "8b03531a-4185-4efa-8e04-cf3d7747551b",
   "metadata": {},
   "outputs": [
    {
     "name": "stdout",
     "output_type": "stream",
     "text": [
      "Читеры составляют долю в числе всех игроков: 0.033 %\n"
     ]
    }
   ],
   "source": [
    "print('Читеры составляют долю в числе всех игроков:', round((len(cheaters.query('cheaters == 1'))/len(cheaters)*100),3),'%')"
   ]
  },
  {
   "cell_type": "markdown",
   "id": "88635a17-ab59-4e31-953e-ebe6303c11e7",
   "metadata": {},
   "source": [
    "Число игроков в контрольной и тестовой выборках почти совпадает, но в контрольной игроков чуть больше. По платформам игроки распределены равномерно, число читеров мало (всего 0,033 %)"
   ]
  },
  {
   "cell_type": "markdown",
   "id": "96285a62-4ed4-4a87-98e1-5df687fc128b",
   "metadata": {},
   "source": [
    "## ШАГ 2. Предобработка данных\n",
    "### работа с дубликатами"
   ]
  },
  {
   "cell_type": "code",
   "execution_count": 16,
   "id": "7888079d-96c6-40d2-8aaf-b8bec4bceed7",
   "metadata": {},
   "outputs": [
    {
     "data": {
      "text/plain": [
       "7560000"
      ]
     },
     "execution_count": 16,
     "metadata": {},
     "output_type": "execute_result"
    }
   ],
   "source": [
    "ABgroup.duplicated().sum()"
   ]
  },
  {
   "cell_type": "code",
   "execution_count": 17,
   "id": "413787ab-b591-459d-b145-188429aabeed",
   "metadata": {},
   "outputs": [
    {
     "data": {
      "text/plain": [
       "0"
      ]
     },
     "execution_count": 17,
     "metadata": {},
     "output_type": "execute_result"
    }
   ],
   "source": [
    "cash.duplicated().sum()"
   ]
  },
  {
   "cell_type": "code",
   "execution_count": 18,
   "id": "4b28113a-a7d3-4562-9d0e-3bca93839f5d",
   "metadata": {},
   "outputs": [
    {
     "data": {
      "text/plain": [
       "0"
      ]
     },
     "execution_count": 18,
     "metadata": {},
     "output_type": "execute_result"
    }
   ],
   "source": [
    "money.duplicated().sum()"
   ]
  },
  {
   "cell_type": "code",
   "execution_count": 19,
   "id": "71d0ff1d-fbdb-4961-9d0b-284b5ef13da0",
   "metadata": {},
   "outputs": [
    {
     "data": {
      "text/plain": [
       "7560000"
      ]
     },
     "execution_count": 19,
     "metadata": {},
     "output_type": "execute_result"
    }
   ],
   "source": [
    "cheaters.duplicated().sum()"
   ]
  },
  {
   "cell_type": "code",
   "execution_count": 20,
   "id": "13c7f9a8-455a-4e28-87f8-b50adfb7a03e",
   "metadata": {},
   "outputs": [
    {
     "data": {
      "text/plain": [
       "7560000"
      ]
     },
     "execution_count": 20,
     "metadata": {},
     "output_type": "execute_result"
    }
   ],
   "source": [
    "platforms.duplicated().sum()"
   ]
  },
  {
   "cell_type": "code",
   "execution_count": 21,
   "id": "05b976b4-5042-4c72-9f2d-a8d098f3208a",
   "metadata": {},
   "outputs": [],
   "source": [
    "ABgroup.drop_duplicates(inplace=True)\n",
    "cheaters.drop_duplicates(inplace=True)\n",
    "platforms.drop_duplicates(inplace=True)"
   ]
  },
  {
   "cell_type": "markdown",
   "id": "18bb2c76-2173-4b30-b45b-c72f73ede955",
   "metadata": {},
   "source": [
    "### работа с пропусками"
   ]
  },
  {
   "cell_type": "code",
   "execution_count": 22,
   "id": "37c358eb-2950-43d8-8fda-605706d2421c",
   "metadata": {},
   "outputs": [
    {
     "name": "stdout",
     "output_type": "stream",
     "text": [
      "user_id    0\n",
      "group      0\n",
      "dtype: int64\n",
      "user_id    0\n",
      "date       0\n",
      "cash       0\n",
      "dtype: int64\n",
      "user_id    0\n",
      "date       0\n",
      "money      0\n",
      "dtype: int64\n",
      "user_id     0\n",
      "cheaters    0\n",
      "dtype: int64\n",
      "user_id     0\n",
      "platform    0\n",
      "dtype: int64\n"
     ]
    }
   ],
   "source": [
    "for i in frames:\n",
    "    print(i.isna().sum())"
   ]
  },
  {
   "cell_type": "markdown",
   "id": "732ef73b-97b1-4d7c-9b75-6e5be87d071a",
   "metadata": {},
   "source": [
    "### проверка типов данных на соответствие"
   ]
  },
  {
   "cell_type": "code",
   "execution_count": 23,
   "id": "32aacb84-4dfc-4b4c-97fe-576c0247a29c",
   "metadata": {},
   "outputs": [],
   "source": [
    "cash['date'] =  pd.to_datetime(cash['date']).dt.date\n",
    "money['date'] = pd.to_datetime(money['date']).dt.date"
   ]
  },
  {
   "cell_type": "markdown",
   "id": "edae3a4f-12ca-461c-b852-5172ac6904c7",
   "metadata": {},
   "source": [
    "Число записей в датасетах совпадает. Объединим данные в один датасет, чтобы упростить анализ"
   ]
  },
  {
   "cell_type": "code",
   "execution_count": 24,
   "id": "3fc9b777-1928-45b7-88c8-9f42505de576",
   "metadata": {},
   "outputs": [],
   "source": [
    "data = ABgroup.merge(cash, on='user_id').merge(money, on = ['user_id', 'date']).merge(cheaters, on='user_id').merge(platforms, on='user_id')"
   ]
  },
  {
   "cell_type": "code",
   "execution_count": 25,
   "id": "3c25ee80-2e04-42f0-ab8f-d24f1d659dea",
   "metadata": {},
   "outputs": [
    {
     "data": {
      "text/html": [
       "<div>\n",
       "<style scoped>\n",
       "    .dataframe tbody tr th:only-of-type {\n",
       "        vertical-align: middle;\n",
       "    }\n",
       "\n",
       "    .dataframe tbody tr th {\n",
       "        vertical-align: top;\n",
       "    }\n",
       "\n",
       "    .dataframe thead th {\n",
       "        text-align: right;\n",
       "    }\n",
       "</style>\n",
       "<table border=\"1\" class=\"dataframe\">\n",
       "  <thead>\n",
       "    <tr style=\"text-align: right;\">\n",
       "      <th></th>\n",
       "      <th>user_id</th>\n",
       "      <th>group</th>\n",
       "      <th>date</th>\n",
       "      <th>cash</th>\n",
       "      <th>money</th>\n",
       "      <th>cheaters</th>\n",
       "      <th>platform</th>\n",
       "    </tr>\n",
       "  </thead>\n",
       "  <tbody>\n",
       "    <tr>\n",
       "      <th>0</th>\n",
       "      <td>VX6NLA-F5YMSW</td>\n",
       "      <td>control</td>\n",
       "      <td>2021-07-15</td>\n",
       "      <td>100</td>\n",
       "      <td>0.00</td>\n",
       "      <td>0</td>\n",
       "      <td>XBox</td>\n",
       "    </tr>\n",
       "    <tr>\n",
       "      <th>1</th>\n",
       "      <td>VX6NLA-F5YMSW</td>\n",
       "      <td>control</td>\n",
       "      <td>2021-07-14</td>\n",
       "      <td>400</td>\n",
       "      <td>0.00</td>\n",
       "      <td>0</td>\n",
       "      <td>XBox</td>\n",
       "    </tr>\n",
       "    <tr>\n",
       "      <th>2</th>\n",
       "      <td>VX6NLA-F5YMSW</td>\n",
       "      <td>control</td>\n",
       "      <td>2021-07-13</td>\n",
       "      <td>650</td>\n",
       "      <td>0.99</td>\n",
       "      <td>0</td>\n",
       "      <td>XBox</td>\n",
       "    </tr>\n",
       "    <tr>\n",
       "      <th>3</th>\n",
       "      <td>VX6NLA-F5YMSW</td>\n",
       "      <td>control</td>\n",
       "      <td>2021-07-11</td>\n",
       "      <td>1450</td>\n",
       "      <td>1.99</td>\n",
       "      <td>0</td>\n",
       "      <td>XBox</td>\n",
       "    </tr>\n",
       "    <tr>\n",
       "      <th>4</th>\n",
       "      <td>VX6NLA-F5YMSW</td>\n",
       "      <td>control</td>\n",
       "      <td>2021-07-12</td>\n",
       "      <td>900</td>\n",
       "      <td>0.00</td>\n",
       "      <td>0</td>\n",
       "      <td>XBox</td>\n",
       "    </tr>\n",
       "    <tr>\n",
       "      <th>...</th>\n",
       "      <td>...</td>\n",
       "      <td>...</td>\n",
       "      <td>...</td>\n",
       "      <td>...</td>\n",
       "      <td>...</td>\n",
       "      <td>...</td>\n",
       "      <td>...</td>\n",
       "    </tr>\n",
       "    <tr>\n",
       "      <th>8639995</th>\n",
       "      <td>92UJ17-E1MPN5</td>\n",
       "      <td>control</td>\n",
       "      <td>2021-07-14</td>\n",
       "      <td>600</td>\n",
       "      <td>0.99</td>\n",
       "      <td>0</td>\n",
       "      <td>PC</td>\n",
       "    </tr>\n",
       "    <tr>\n",
       "      <th>8639996</th>\n",
       "      <td>92UJ17-E1MPN5</td>\n",
       "      <td>control</td>\n",
       "      <td>2021-07-17</td>\n",
       "      <td>850</td>\n",
       "      <td>0.99</td>\n",
       "      <td>0</td>\n",
       "      <td>PC</td>\n",
       "    </tr>\n",
       "    <tr>\n",
       "      <th>8639997</th>\n",
       "      <td>92UJ17-E1MPN5</td>\n",
       "      <td>control</td>\n",
       "      <td>2021-07-10</td>\n",
       "      <td>850</td>\n",
       "      <td>0.00</td>\n",
       "      <td>0</td>\n",
       "      <td>PC</td>\n",
       "    </tr>\n",
       "    <tr>\n",
       "      <th>8639998</th>\n",
       "      <td>92UJ17-E1MPN5</td>\n",
       "      <td>control</td>\n",
       "      <td>2021-07-11</td>\n",
       "      <td>450</td>\n",
       "      <td>0.99</td>\n",
       "      <td>0</td>\n",
       "      <td>PC</td>\n",
       "    </tr>\n",
       "    <tr>\n",
       "      <th>8639999</th>\n",
       "      <td>92UJ17-E1MPN5</td>\n",
       "      <td>control</td>\n",
       "      <td>2021-07-12</td>\n",
       "      <td>1350</td>\n",
       "      <td>0.99</td>\n",
       "      <td>0</td>\n",
       "      <td>PC</td>\n",
       "    </tr>\n",
       "  </tbody>\n",
       "</table>\n",
       "<p>8640000 rows × 7 columns</p>\n",
       "</div>"
      ],
      "text/plain": [
       "               user_id    group        date  cash  money  cheaters platform\n",
       "0        VX6NLA-F5YMSW  control  2021-07-15   100   0.00         0     XBox\n",
       "1        VX6NLA-F5YMSW  control  2021-07-14   400   0.00         0     XBox\n",
       "2        VX6NLA-F5YMSW  control  2021-07-13   650   0.99         0     XBox\n",
       "3        VX6NLA-F5YMSW  control  2021-07-11  1450   1.99         0     XBox\n",
       "4        VX6NLA-F5YMSW  control  2021-07-12   900   0.00         0     XBox\n",
       "...                ...      ...         ...   ...    ...       ...      ...\n",
       "8639995  92UJ17-E1MPN5  control  2021-07-14   600   0.99         0       PC\n",
       "8639996  92UJ17-E1MPN5  control  2021-07-17   850   0.99         0       PC\n",
       "8639997  92UJ17-E1MPN5  control  2021-07-10   850   0.00         0       PC\n",
       "8639998  92UJ17-E1MPN5  control  2021-07-11   450   0.99         0       PC\n",
       "8639999  92UJ17-E1MPN5  control  2021-07-12  1350   0.99         0       PC\n",
       "\n",
       "[8640000 rows x 7 columns]"
      ]
     },
     "execution_count": 25,
     "metadata": {},
     "output_type": "execute_result"
    }
   ],
   "source": [
    "data"
   ]
  },
  {
   "cell_type": "markdown",
   "id": "666a5eb0-1e8d-4b6b-a189-4dee5a5c5c11",
   "metadata": {},
   "source": [
    "Исследуем выбросы"
   ]
  },
  {
   "cell_type": "code",
   "execution_count": 26,
   "id": "c7c26827-16a3-4d57-816c-de20c26cda7f",
   "metadata": {},
   "outputs": [
    {
     "data": {
      "image/png": "[encoded data removed]",
      "text/plain": [
       "<Figure size 640x480 with 1 Axes>"
      ]
     },
     "metadata": {},
     "output_type": "display_data"
    },
    {
     "data": {
      "image/png": "[encoded data removed]",
      "text/plain": [
       "<Figure size 640x480 with 1 Axes>"
      ]
     },
     "metadata": {},
     "output_type": "display_data"
    }
   ],
   "source": [
    "cols = ['cash','money']\n",
    "for i in cols:\n",
    "    plt.figure()\n",
    "    sns.boxplot(x=i, data=data)\n",
    "    plt.show()"
   ]
  },
  {
   "cell_type": "markdown",
   "id": "9654d153-6f89-4975-bf69-5f4bae922146",
   "metadata": {},
   "source": [
    "Много выбросов в трате внутриигровой валюты. Игроки тратят разные сумму на донаты. От небольших трат до больших сумм свыше 100000. Также есть выбросы в платежах, но они не такие сильные и распределены равномерно"
   ]
  },
  {
   "cell_type": "markdown",
   "id": "1bf0ac0a-2578-4165-bffe-a6f9446c40a4",
   "metadata": {},
   "source": [
    "Проверим, есть ли пересечение в группах"
   ]
  },
  {
   "cell_type": "code",
   "execution_count": 27,
   "id": "4f8f75a9-4f89-4d19-9132-523b70982ded",
   "metadata": {},
   "outputs": [
    {
     "data": {
      "text/html": [
       "<div>\n",
       "<style scoped>\n",
       "    .dataframe tbody tr th:only-of-type {\n",
       "        vertical-align: middle;\n",
       "    }\n",
       "\n",
       "    .dataframe tbody tr th {\n",
       "        vertical-align: top;\n",
       "    }\n",
       "\n",
       "    .dataframe thead th {\n",
       "        text-align: right;\n",
       "    }\n",
       "</style>\n",
       "<table border=\"1\" class=\"dataframe\">\n",
       "  <thead>\n",
       "    <tr style=\"text-align: right;\">\n",
       "      <th></th>\n",
       "      <th>user_id</th>\n",
       "      <th>group</th>\n",
       "      <th>date</th>\n",
       "      <th>cash</th>\n",
       "      <th>money</th>\n",
       "      <th>cheaters</th>\n",
       "      <th>platform</th>\n",
       "    </tr>\n",
       "  </thead>\n",
       "  <tbody>\n",
       "  </tbody>\n",
       "</table>\n",
       "</div>"
      ],
      "text/plain": [
       "Empty DataFrame\n",
       "Columns: [user_id, group, date, cash, money, cheaters, platform]\n",
       "Index: []"
      ]
     },
     "execution_count": 27,
     "metadata": {},
     "output_type": "execute_result"
    }
   ],
   "source": [
    "data[data['group'] == 'control'].merge(data[data['group'] == 'test'],how='inner')"
   ]
  },
  {
   "cell_type": "markdown",
   "id": "98a916c0-9b1a-4b70-bd7d-eb5fe8118de4",
   "metadata": {},
   "source": [
    "Пересечения нет"
   ]
  },
  {
   "cell_type": "code",
   "execution_count": 28,
   "id": "a16211b7-e17d-4129-b84d-8d6606fa6931",
   "metadata": {},
   "outputs": [
    {
     "data": {
      "text/plain": [
       "datetime.timedelta(days=7)"
      ]
     },
     "execution_count": 28,
     "metadata": {},
     "output_type": "execute_result"
    }
   ],
   "source": [
    "max(data['date']) - min(data['date'])"
   ]
  },
  {
   "cell_type": "code",
   "execution_count": 29,
   "id": "2ecf5423-8eef-4f2b-b0ee-4354d9c8fc6e",
   "metadata": {},
   "outputs": [
    {
     "name": "stdout",
     "output_type": "stream",
     "text": [
      "Минимальная дата: 2021-07-10\n",
      "Максимальная дата: 2021-07-17\n"
     ]
    }
   ],
   "source": [
    "print('Минимальная дата:',  data['date'].min())\n",
    "print('Максимальная дата:',  data['date'].max())"
   ]
  },
  {
   "cell_type": "markdown",
   "id": "0bb216ae-664b-4615-a947-87a99e6ebeaf",
   "metadata": {},
   "source": [
    "ВЫВОДЫ: Тест длится 8 дней с 2021-07-10 по 2021-07-17. Пересечения в группах нет, пропусков нет, дубликаты удалены. Можно переходить к анализу данных и АВ-тесту"
   ]
  },
  {
   "cell_type": "markdown",
   "id": "2b662aa7",
   "metadata": {},
   "source": [
    "## ШАГ 2. исследовательский анализ данных"
   ]
  },
  {
   "cell_type": "markdown",
   "id": "d7a12083",
   "metadata": {},
   "source": [
    "## Исследуем читеров"
   ]
  },
  {
   "cell_type": "code",
   "execution_count": 30,
   "id": "63ddd2a8-2e24-4f40-b51a-08d991467357",
   "metadata": {},
   "outputs": [],
   "source": [
    "cheaters_true = data[data['cheaters'] == 1]"
   ]
  },
  {
   "cell_type": "code",
   "execution_count": 31,
   "id": "27f36b92-9456-44be-a58f-6d909fd16a29",
   "metadata": {},
   "outputs": [
    {
     "data": {
      "text/html": [
       "<div>\n",
       "<style scoped>\n",
       "    .dataframe tbody tr th:only-of-type {\n",
       "        vertical-align: middle;\n",
       "    }\n",
       "\n",
       "    .dataframe tbody tr th {\n",
       "        vertical-align: top;\n",
       "    }\n",
       "\n",
       "    .dataframe thead th {\n",
       "        text-align: right;\n",
       "    }\n",
       "</style>\n",
       "<table border=\"1\" class=\"dataframe\">\n",
       "  <thead>\n",
       "    <tr style=\"text-align: right;\">\n",
       "      <th></th>\n",
       "      <th>user_id</th>\n",
       "      <th>group</th>\n",
       "      <th>date</th>\n",
       "      <th>cash</th>\n",
       "      <th>money</th>\n",
       "      <th>cheaters</th>\n",
       "      <th>platform</th>\n",
       "    </tr>\n",
       "  </thead>\n",
       "  <tbody>\n",
       "    <tr>\n",
       "      <th>17264</th>\n",
       "      <td>U192N6-HV5KWD</td>\n",
       "      <td>test</td>\n",
       "      <td>2021-07-13</td>\n",
       "      <td>0</td>\n",
       "      <td>0.0</td>\n",
       "      <td>1</td>\n",
       "      <td>PC</td>\n",
       "    </tr>\n",
       "    <tr>\n",
       "      <th>17265</th>\n",
       "      <td>U192N6-HV5KWD</td>\n",
       "      <td>test</td>\n",
       "      <td>2021-07-14</td>\n",
       "      <td>15750</td>\n",
       "      <td>0.0</td>\n",
       "      <td>1</td>\n",
       "      <td>PC</td>\n",
       "    </tr>\n",
       "    <tr>\n",
       "      <th>17266</th>\n",
       "      <td>U192N6-HV5KWD</td>\n",
       "      <td>test</td>\n",
       "      <td>2021-07-16</td>\n",
       "      <td>30800</td>\n",
       "      <td>0.0</td>\n",
       "      <td>1</td>\n",
       "      <td>PC</td>\n",
       "    </tr>\n",
       "    <tr>\n",
       "      <th>17267</th>\n",
       "      <td>U192N6-HV5KWD</td>\n",
       "      <td>test</td>\n",
       "      <td>2021-07-15</td>\n",
       "      <td>19500</td>\n",
       "      <td>0.0</td>\n",
       "      <td>1</td>\n",
       "      <td>PC</td>\n",
       "    </tr>\n",
       "    <tr>\n",
       "      <th>17268</th>\n",
       "      <td>U192N6-HV5KWD</td>\n",
       "      <td>test</td>\n",
       "      <td>2021-07-11</td>\n",
       "      <td>16800</td>\n",
       "      <td>0.0</td>\n",
       "      <td>1</td>\n",
       "      <td>PC</td>\n",
       "    </tr>\n",
       "    <tr>\n",
       "      <th>...</th>\n",
       "      <td>...</td>\n",
       "      <td>...</td>\n",
       "      <td>...</td>\n",
       "      <td>...</td>\n",
       "      <td>...</td>\n",
       "      <td>...</td>\n",
       "      <td>...</td>\n",
       "    </tr>\n",
       "    <tr>\n",
       "      <th>8626547</th>\n",
       "      <td>BYJYC4-DGYC2E</td>\n",
       "      <td>test</td>\n",
       "      <td>2021-07-12</td>\n",
       "      <td>19550</td>\n",
       "      <td>0.0</td>\n",
       "      <td>1</td>\n",
       "      <td>PC</td>\n",
       "    </tr>\n",
       "    <tr>\n",
       "      <th>8626548</th>\n",
       "      <td>BYJYC4-DGYC2E</td>\n",
       "      <td>test</td>\n",
       "      <td>2021-07-13</td>\n",
       "      <td>28350</td>\n",
       "      <td>0.0</td>\n",
       "      <td>1</td>\n",
       "      <td>PC</td>\n",
       "    </tr>\n",
       "    <tr>\n",
       "      <th>8626549</th>\n",
       "      <td>BYJYC4-DGYC2E</td>\n",
       "      <td>test</td>\n",
       "      <td>2021-07-15</td>\n",
       "      <td>29700</td>\n",
       "      <td>0.0</td>\n",
       "      <td>1</td>\n",
       "      <td>PC</td>\n",
       "    </tr>\n",
       "    <tr>\n",
       "      <th>8626550</th>\n",
       "      <td>BYJYC4-DGYC2E</td>\n",
       "      <td>test</td>\n",
       "      <td>2021-07-17</td>\n",
       "      <td>37200</td>\n",
       "      <td>0.0</td>\n",
       "      <td>1</td>\n",
       "      <td>PC</td>\n",
       "    </tr>\n",
       "    <tr>\n",
       "      <th>8626551</th>\n",
       "      <td>BYJYC4-DGYC2E</td>\n",
       "      <td>test</td>\n",
       "      <td>2021-07-14</td>\n",
       "      <td>14850</td>\n",
       "      <td>0.0</td>\n",
       "      <td>1</td>\n",
       "      <td>PC</td>\n",
       "    </tr>\n",
       "  </tbody>\n",
       "</table>\n",
       "<p>2824 rows × 7 columns</p>\n",
       "</div>"
      ],
      "text/plain": [
       "               user_id group        date   cash  money  cheaters platform\n",
       "17264    U192N6-HV5KWD  test  2021-07-13      0    0.0         1       PC\n",
       "17265    U192N6-HV5KWD  test  2021-07-14  15750    0.0         1       PC\n",
       "17266    U192N6-HV5KWD  test  2021-07-16  30800    0.0         1       PC\n",
       "17267    U192N6-HV5KWD  test  2021-07-15  19500    0.0         1       PC\n",
       "17268    U192N6-HV5KWD  test  2021-07-11  16800    0.0         1       PC\n",
       "...                ...   ...         ...    ...    ...       ...      ...\n",
       "8626547  BYJYC4-DGYC2E  test  2021-07-12  19550    0.0         1       PC\n",
       "8626548  BYJYC4-DGYC2E  test  2021-07-13  28350    0.0         1       PC\n",
       "8626549  BYJYC4-DGYC2E  test  2021-07-15  29700    0.0         1       PC\n",
       "8626550  BYJYC4-DGYC2E  test  2021-07-17  37200    0.0         1       PC\n",
       "8626551  BYJYC4-DGYC2E  test  2021-07-14  14850    0.0         1       PC\n",
       "\n",
       "[2824 rows x 7 columns]"
      ]
     },
     "execution_count": 31,
     "metadata": {},
     "output_type": "execute_result"
    }
   ],
   "source": [
    "cheaters_true"
   ]
  },
  {
   "cell_type": "code",
   "execution_count": 32,
   "id": "4de43bb6-ceaf-4ae1-9f2e-2314a261b6ac",
   "metadata": {},
   "outputs": [
    {
     "data": {
      "text/html": [
       "<div>\n",
       "<style scoped>\n",
       "    .dataframe tbody tr th:only-of-type {\n",
       "        vertical-align: middle;\n",
       "    }\n",
       "\n",
       "    .dataframe tbody tr th {\n",
       "        vertical-align: top;\n",
       "    }\n",
       "\n",
       "    .dataframe thead th {\n",
       "        text-align: right;\n",
       "    }\n",
       "</style>\n",
       "<table border=\"1\" class=\"dataframe\">\n",
       "  <thead>\n",
       "    <tr style=\"text-align: right;\">\n",
       "      <th></th>\n",
       "      <th>cash</th>\n",
       "      <th>money</th>\n",
       "      <th>cheaters</th>\n",
       "    </tr>\n",
       "  </thead>\n",
       "  <tbody>\n",
       "    <tr>\n",
       "      <th>count</th>\n",
       "      <td>2824.000000</td>\n",
       "      <td>2824.0</td>\n",
       "      <td>2824.0</td>\n",
       "    </tr>\n",
       "    <tr>\n",
       "      <th>mean</th>\n",
       "      <td>18350.991501</td>\n",
       "      <td>0.0</td>\n",
       "      <td>1.0</td>\n",
       "    </tr>\n",
       "    <tr>\n",
       "      <th>std</th>\n",
       "      <td>16069.479162</td>\n",
       "      <td>0.0</td>\n",
       "      <td>0.0</td>\n",
       "    </tr>\n",
       "    <tr>\n",
       "      <th>min</th>\n",
       "      <td>0.000000</td>\n",
       "      <td>0.0</td>\n",
       "      <td>1.0</td>\n",
       "    </tr>\n",
       "    <tr>\n",
       "      <th>25%</th>\n",
       "      <td>5200.000000</td>\n",
       "      <td>0.0</td>\n",
       "      <td>1.0</td>\n",
       "    </tr>\n",
       "    <tr>\n",
       "      <th>50%</th>\n",
       "      <td>16200.000000</td>\n",
       "      <td>0.0</td>\n",
       "      <td>1.0</td>\n",
       "    </tr>\n",
       "    <tr>\n",
       "      <th>75%</th>\n",
       "      <td>28600.000000</td>\n",
       "      <td>0.0</td>\n",
       "      <td>1.0</td>\n",
       "    </tr>\n",
       "    <tr>\n",
       "      <th>max</th>\n",
       "      <td>148200.000000</td>\n",
       "      <td>0.0</td>\n",
       "      <td>1.0</td>\n",
       "    </tr>\n",
       "  </tbody>\n",
       "</table>\n",
       "</div>"
      ],
      "text/plain": [
       "                cash   money  cheaters\n",
       "count    2824.000000  2824.0    2824.0\n",
       "mean    18350.991501     0.0       1.0\n",
       "std     16069.479162     0.0       0.0\n",
       "min         0.000000     0.0       1.0\n",
       "25%      5200.000000     0.0       1.0\n",
       "50%     16200.000000     0.0       1.0\n",
       "75%     28600.000000     0.0       1.0\n",
       "max    148200.000000     0.0       1.0"
      ]
     },
     "execution_count": 32,
     "metadata": {},
     "output_type": "execute_result"
    }
   ],
   "source": [
    "cheaters_true.describe()"
   ]
  },
  {
   "cell_type": "code",
   "execution_count": 33,
   "id": "b0906305-0883-400e-a069-4fa64ac37993",
   "metadata": {},
   "outputs": [
    {
     "data": {
      "text/html": [
       "<div>\n",
       "<style scoped>\n",
       "    .dataframe tbody tr th:only-of-type {\n",
       "        vertical-align: middle;\n",
       "    }\n",
       "\n",
       "    .dataframe tbody tr th {\n",
       "        vertical-align: top;\n",
       "    }\n",
       "\n",
       "    .dataframe thead tr th {\n",
       "        text-align: left;\n",
       "    }\n",
       "\n",
       "    .dataframe thead tr:last-of-type th {\n",
       "        text-align: right;\n",
       "    }\n",
       "</style>\n",
       "<table border=\"1\" class=\"dataframe\">\n",
       "  <thead>\n",
       "    <tr>\n",
       "      <th></th>\n",
       "      <th colspan=\"4\" halign=\"left\">sum</th>\n",
       "    </tr>\n",
       "    <tr>\n",
       "      <th></th>\n",
       "      <th colspan=\"2\" halign=\"left\">cash</th>\n",
       "      <th colspan=\"2\" halign=\"left\">money</th>\n",
       "    </tr>\n",
       "    <tr>\n",
       "      <th>group</th>\n",
       "      <th>control</th>\n",
       "      <th>test</th>\n",
       "      <th>control</th>\n",
       "      <th>test</th>\n",
       "    </tr>\n",
       "    <tr>\n",
       "      <th>date</th>\n",
       "      <th></th>\n",
       "      <th></th>\n",
       "      <th></th>\n",
       "      <th></th>\n",
       "    </tr>\n",
       "  </thead>\n",
       "  <tbody>\n",
       "    <tr>\n",
       "      <th>2021-07-10</th>\n",
       "      <td>3139000</td>\n",
       "      <td>3805450</td>\n",
       "      <td>0.0</td>\n",
       "      <td>0.0</td>\n",
       "    </tr>\n",
       "    <tr>\n",
       "      <th>2021-07-11</th>\n",
       "      <td>3294350</td>\n",
       "      <td>3672100</td>\n",
       "      <td>0.0</td>\n",
       "      <td>0.0</td>\n",
       "    </tr>\n",
       "    <tr>\n",
       "      <th>2021-07-12</th>\n",
       "      <td>3429550</td>\n",
       "      <td>3755500</td>\n",
       "      <td>0.0</td>\n",
       "      <td>0.0</td>\n",
       "    </tr>\n",
       "    <tr>\n",
       "      <th>2021-07-13</th>\n",
       "      <td>2989950</td>\n",
       "      <td>3516150</td>\n",
       "      <td>0.0</td>\n",
       "      <td>0.0</td>\n",
       "    </tr>\n",
       "    <tr>\n",
       "      <th>2021-07-14</th>\n",
       "      <td>2644600</td>\n",
       "      <td>3772600</td>\n",
       "      <td>0.0</td>\n",
       "      <td>0.0</td>\n",
       "    </tr>\n",
       "    <tr>\n",
       "      <th>2021-07-15</th>\n",
       "      <td>2257000</td>\n",
       "      <td>2989250</td>\n",
       "      <td>0.0</td>\n",
       "      <td>0.0</td>\n",
       "    </tr>\n",
       "    <tr>\n",
       "      <th>2021-07-16</th>\n",
       "      <td>2222100</td>\n",
       "      <td>2411400</td>\n",
       "      <td>0.0</td>\n",
       "      <td>0.0</td>\n",
       "    </tr>\n",
       "    <tr>\n",
       "      <th>2021-07-17</th>\n",
       "      <td>3910900</td>\n",
       "      <td>4013300</td>\n",
       "      <td>0.0</td>\n",
       "      <td>0.0</td>\n",
       "    </tr>\n",
       "  </tbody>\n",
       "</table>\n",
       "</div>"
      ],
      "text/plain": [
       "                sum                      \n",
       "               cash            money     \n",
       "group       control     test control test\n",
       "date                                     \n",
       "2021-07-10  3139000  3805450     0.0  0.0\n",
       "2021-07-11  3294350  3672100     0.0  0.0\n",
       "2021-07-12  3429550  3755500     0.0  0.0\n",
       "2021-07-13  2989950  3516150     0.0  0.0\n",
       "2021-07-14  2644600  3772600     0.0  0.0\n",
       "2021-07-15  2257000  2989250     0.0  0.0\n",
       "2021-07-16  2222100  2411400     0.0  0.0\n",
       "2021-07-17  3910900  4013300     0.0  0.0"
      ]
     },
     "execution_count": 33,
     "metadata": {},
     "output_type": "execute_result"
    }
   ],
   "source": [
    "cheaters_true.pivot_table(index='date', columns='group', values=['cash','money'], aggfunc=['sum'])"
   ]
  },
  {
   "cell_type": "markdown",
   "id": "91c86959-7e92-44e3-8e03-a91d17546654",
   "metadata": {},
   "source": [
    "Читеры вообще не делают платежи (не донатят), в тестовой выборке тратят валюту чаще"
   ]
  },
  {
   "cell_type": "code",
   "execution_count": 34,
   "id": "7937d3c7-1967-4416-9583-7e8a3fd470cd",
   "metadata": {},
   "outputs": [
    {
     "data": {
      "image/png": "[encoded data removed]",
      "text/plain": [
       "<Figure size 640x480 with 1 Axes>"
      ]
     },
     "metadata": {},
     "output_type": "display_data"
    }
   ],
   "source": [
    "ax = sns.countplot(data=data, x='money', hue='cheaters');\n",
    "plt.title('Траты читеров по сравнению с обычными игроками')\n",
    "plt.legend(['не читеры', 'читеры'])\n",
    "plt.show()"
   ]
  },
  {
   "cell_type": "markdown",
   "id": "d388863e-ad0d-4403-baa8-61d9468178ca",
   "metadata": {},
   "source": [
    "траты обычных игроков и читеров различаются в десятки раз"
   ]
  },
  {
   "cell_type": "code",
   "execution_count": 35,
   "id": "0e3a9310",
   "metadata": {},
   "outputs": [],
   "source": [
    "players = data[data['cheaters'] == 0]"
   ]
  },
  {
   "cell_type": "code",
   "execution_count": 36,
   "id": "ee799151",
   "metadata": {
    "scrolled": true
   },
   "outputs": [
    {
     "data": {
      "text/html": [
       "<div>\n",
       "<style scoped>\n",
       "    .dataframe tbody tr th:only-of-type {\n",
       "        vertical-align: middle;\n",
       "    }\n",
       "\n",
       "    .dataframe tbody tr th {\n",
       "        vertical-align: top;\n",
       "    }\n",
       "\n",
       "    .dataframe thead th {\n",
       "        text-align: right;\n",
       "    }\n",
       "</style>\n",
       "<table border=\"1\" class=\"dataframe\">\n",
       "  <thead>\n",
       "    <tr style=\"text-align: right;\">\n",
       "      <th></th>\n",
       "      <th>cash</th>\n",
       "      <th>money</th>\n",
       "      <th>cheaters</th>\n",
       "    </tr>\n",
       "  </thead>\n",
       "  <tbody>\n",
       "    <tr>\n",
       "      <th>count</th>\n",
       "      <td>8.637176e+06</td>\n",
       "      <td>8.637176e+06</td>\n",
       "      <td>8637176.0</td>\n",
       "    </tr>\n",
       "    <tr>\n",
       "      <th>mean</th>\n",
       "      <td>7.576511e+02</td>\n",
       "      <td>7.492327e-01</td>\n",
       "      <td>0.0</td>\n",
       "    </tr>\n",
       "    <tr>\n",
       "      <th>std</th>\n",
       "      <td>7.716610e+02</td>\n",
       "      <td>7.923057e-01</td>\n",
       "      <td>0.0</td>\n",
       "    </tr>\n",
       "    <tr>\n",
       "      <th>min</th>\n",
       "      <td>0.000000e+00</td>\n",
       "      <td>0.000000e+00</td>\n",
       "      <td>0.0</td>\n",
       "    </tr>\n",
       "    <tr>\n",
       "      <th>25%</th>\n",
       "      <td>2.500000e+02</td>\n",
       "      <td>0.000000e+00</td>\n",
       "      <td>0.0</td>\n",
       "    </tr>\n",
       "    <tr>\n",
       "      <th>50%</th>\n",
       "      <td>7.000000e+02</td>\n",
       "      <td>9.900000e-01</td>\n",
       "      <td>0.0</td>\n",
       "    </tr>\n",
       "    <tr>\n",
       "      <th>75%</th>\n",
       "      <td>1.150000e+03</td>\n",
       "      <td>9.900000e-01</td>\n",
       "      <td>0.0</td>\n",
       "    </tr>\n",
       "    <tr>\n",
       "      <th>max</th>\n",
       "      <td>1.377500e+05</td>\n",
       "      <td>9.990000e+00</td>\n",
       "      <td>0.0</td>\n",
       "    </tr>\n",
       "  </tbody>\n",
       "</table>\n",
       "</div>"
      ],
      "text/plain": [
       "               cash         money   cheaters\n",
       "count  8.637176e+06  8.637176e+06  8637176.0\n",
       "mean   7.576511e+02  7.492327e-01        0.0\n",
       "std    7.716610e+02  7.923057e-01        0.0\n",
       "min    0.000000e+00  0.000000e+00        0.0\n",
       "25%    2.500000e+02  0.000000e+00        0.0\n",
       "50%    7.000000e+02  9.900000e-01        0.0\n",
       "75%    1.150000e+03  9.900000e-01        0.0\n",
       "max    1.377500e+05  9.990000e+00        0.0"
      ]
     },
     "execution_count": 36,
     "metadata": {},
     "output_type": "execute_result"
    }
   ],
   "source": [
    "players.describe()"
   ]
  },
  {
   "cell_type": "code",
   "execution_count": 37,
   "id": "0d010572",
   "metadata": {},
   "outputs": [],
   "source": [
    "pd.options.display.float_format = '{:,.1f}'.format"
   ]
  },
  {
   "cell_type": "code",
   "execution_count": 38,
   "id": "629c883a",
   "metadata": {},
   "outputs": [
    {
     "data": {
      "text/html": [
       "<div>\n",
       "<style scoped>\n",
       "    .dataframe tbody tr th:only-of-type {\n",
       "        vertical-align: middle;\n",
       "    }\n",
       "\n",
       "    .dataframe tbody tr th {\n",
       "        vertical-align: top;\n",
       "    }\n",
       "\n",
       "    .dataframe thead tr th {\n",
       "        text-align: left;\n",
       "    }\n",
       "\n",
       "    .dataframe thead tr:last-of-type th {\n",
       "        text-align: right;\n",
       "    }\n",
       "</style>\n",
       "<table border=\"1\" class=\"dataframe\">\n",
       "  <thead>\n",
       "    <tr>\n",
       "      <th></th>\n",
       "      <th colspan=\"4\" halign=\"left\">sum</th>\n",
       "    </tr>\n",
       "    <tr>\n",
       "      <th></th>\n",
       "      <th colspan=\"2\" halign=\"left\">cash</th>\n",
       "      <th colspan=\"2\" halign=\"left\">money</th>\n",
       "    </tr>\n",
       "    <tr>\n",
       "      <th>group</th>\n",
       "      <th>control</th>\n",
       "      <th>test</th>\n",
       "      <th>control</th>\n",
       "      <th>test</th>\n",
       "    </tr>\n",
       "    <tr>\n",
       "      <th>date</th>\n",
       "      <th></th>\n",
       "      <th></th>\n",
       "      <th></th>\n",
       "      <th></th>\n",
       "    </tr>\n",
       "  </thead>\n",
       "  <tbody>\n",
       "    <tr>\n",
       "      <th>2021-07-10</th>\n",
       "      <td>417591900</td>\n",
       "      <td>443296700</td>\n",
       "      <td>393,870.2</td>\n",
       "      <td>410,341.9</td>\n",
       "    </tr>\n",
       "    <tr>\n",
       "      <th>2021-07-11</th>\n",
       "      <td>417242650</td>\n",
       "      <td>443683050</td>\n",
       "      <td>392,476.6</td>\n",
       "      <td>410,937.9</td>\n",
       "    </tr>\n",
       "    <tr>\n",
       "      <th>2021-07-12</th>\n",
       "      <td>414719750</td>\n",
       "      <td>441187750</td>\n",
       "      <td>390,787.8</td>\n",
       "      <td>409,077.7</td>\n",
       "    </tr>\n",
       "    <tr>\n",
       "      <th>2021-07-13</th>\n",
       "      <td>404319650</td>\n",
       "      <td>431313900</td>\n",
       "      <td>382,743.8</td>\n",
       "      <td>400,947.8</td>\n",
       "    </tr>\n",
       "    <tr>\n",
       "      <th>2021-07-14</th>\n",
       "      <td>379563100</td>\n",
       "      <td>406018100</td>\n",
       "      <td>364,514.4</td>\n",
       "      <td>383,022.8</td>\n",
       "    </tr>\n",
       "    <tr>\n",
       "      <th>2021-07-15</th>\n",
       "      <td>334164900</td>\n",
       "      <td>359357950</td>\n",
       "      <td>335,543.7</td>\n",
       "      <td>353,538.5</td>\n",
       "    </tr>\n",
       "    <tr>\n",
       "      <th>2021-07-16</th>\n",
       "      <td>271665950</td>\n",
       "      <td>292954750</td>\n",
       "      <td>299,028.2</td>\n",
       "      <td>314,611.7</td>\n",
       "    </tr>\n",
       "    <tr>\n",
       "      <th>2021-07-17</th>\n",
       "      <td>518740900</td>\n",
       "      <td>568145000</td>\n",
       "      <td>588,901.1</td>\n",
       "      <td>640,910.7</td>\n",
       "    </tr>\n",
       "  </tbody>\n",
       "</table>\n",
       "</div>"
      ],
      "text/plain": [
       "                  sum                               \n",
       "                 cash                money          \n",
       "group         control       test   control      test\n",
       "date                                                \n",
       "2021-07-10  417591900  443296700 393,870.2 410,341.9\n",
       "2021-07-11  417242650  443683050 392,476.6 410,937.9\n",
       "2021-07-12  414719750  441187750 390,787.8 409,077.7\n",
       "2021-07-13  404319650  431313900 382,743.8 400,947.8\n",
       "2021-07-14  379563100  406018100 364,514.4 383,022.8\n",
       "2021-07-15  334164900  359357950 335,543.7 353,538.5\n",
       "2021-07-16  271665950  292954750 299,028.2 314,611.7\n",
       "2021-07-17  518740900  568145000 588,901.1 640,910.7"
      ]
     },
     "execution_count": 38,
     "metadata": {},
     "output_type": "execute_result"
    }
   ],
   "source": [
    "players.pivot_table(index='date', columns='group', values=['cash','money'], aggfunc=['sum'])"
   ]
  },
  {
   "cell_type": "code",
   "execution_count": 40,
   "id": "95b2767e-5665-4af3-9a77-846a8dddc0f9",
   "metadata": {},
   "outputs": [],
   "source": [
    "players['date'] = pd.to_datetime(players['date'])"
   ]
  },
  {
   "cell_type": "code",
   "execution_count": 41,
   "id": "f566dfdb-8b8d-4362-b7ec-e40d49814ca9",
   "metadata": {},
   "outputs": [],
   "source": [
    "players['week'] = players['date'].dt.isocalendar().week"
   ]
  },
  {
   "cell_type": "code",
   "execution_count": 42,
   "id": "4390ca3a-4b18-45d0-8fdb-c37bd7fc42b3",
   "metadata": {},
   "outputs": [
    {
     "data": {
      "text/html": [
       "<div>\n",
       "<style scoped>\n",
       "    .dataframe tbody tr th:only-of-type {\n",
       "        vertical-align: middle;\n",
       "    }\n",
       "\n",
       "    .dataframe tbody tr th {\n",
       "        vertical-align: top;\n",
       "    }\n",
       "\n",
       "    .dataframe thead th {\n",
       "        text-align: right;\n",
       "    }\n",
       "</style>\n",
       "<table border=\"1\" class=\"dataframe\">\n",
       "  <thead>\n",
       "    <tr style=\"text-align: right;\">\n",
       "      <th></th>\n",
       "      <th>user_id</th>\n",
       "      <th>group</th>\n",
       "      <th>date</th>\n",
       "      <th>cash</th>\n",
       "      <th>money</th>\n",
       "      <th>cheaters</th>\n",
       "      <th>platform</th>\n",
       "      <th>week</th>\n",
       "    </tr>\n",
       "  </thead>\n",
       "  <tbody>\n",
       "    <tr>\n",
       "      <th>0</th>\n",
       "      <td>VX6NLA-F5YMSW</td>\n",
       "      <td>control</td>\n",
       "      <td>2021-07-15</td>\n",
       "      <td>100</td>\n",
       "      <td>0.0</td>\n",
       "      <td>0</td>\n",
       "      <td>XBox</td>\n",
       "      <td>28</td>\n",
       "    </tr>\n",
       "    <tr>\n",
       "      <th>1</th>\n",
       "      <td>VX6NLA-F5YMSW</td>\n",
       "      <td>control</td>\n",
       "      <td>2021-07-14</td>\n",
       "      <td>400</td>\n",
       "      <td>0.0</td>\n",
       "      <td>0</td>\n",
       "      <td>XBox</td>\n",
       "      <td>28</td>\n",
       "    </tr>\n",
       "    <tr>\n",
       "      <th>2</th>\n",
       "      <td>VX6NLA-F5YMSW</td>\n",
       "      <td>control</td>\n",
       "      <td>2021-07-13</td>\n",
       "      <td>650</td>\n",
       "      <td>1.0</td>\n",
       "      <td>0</td>\n",
       "      <td>XBox</td>\n",
       "      <td>28</td>\n",
       "    </tr>\n",
       "    <tr>\n",
       "      <th>3</th>\n",
       "      <td>VX6NLA-F5YMSW</td>\n",
       "      <td>control</td>\n",
       "      <td>2021-07-11</td>\n",
       "      <td>1450</td>\n",
       "      <td>2.0</td>\n",
       "      <td>0</td>\n",
       "      <td>XBox</td>\n",
       "      <td>27</td>\n",
       "    </tr>\n",
       "    <tr>\n",
       "      <th>4</th>\n",
       "      <td>VX6NLA-F5YMSW</td>\n",
       "      <td>control</td>\n",
       "      <td>2021-07-12</td>\n",
       "      <td>900</td>\n",
       "      <td>0.0</td>\n",
       "      <td>0</td>\n",
       "      <td>XBox</td>\n",
       "      <td>28</td>\n",
       "    </tr>\n",
       "    <tr>\n",
       "      <th>...</th>\n",
       "      <td>...</td>\n",
       "      <td>...</td>\n",
       "      <td>...</td>\n",
       "      <td>...</td>\n",
       "      <td>...</td>\n",
       "      <td>...</td>\n",
       "      <td>...</td>\n",
       "      <td>...</td>\n",
       "    </tr>\n",
       "    <tr>\n",
       "      <th>8639995</th>\n",
       "      <td>92UJ17-E1MPN5</td>\n",
       "      <td>control</td>\n",
       "      <td>2021-07-14</td>\n",
       "      <td>600</td>\n",
       "      <td>1.0</td>\n",
       "      <td>0</td>\n",
       "      <td>PC</td>\n",
       "      <td>28</td>\n",
       "    </tr>\n",
       "    <tr>\n",
       "      <th>8639996</th>\n",
       "      <td>92UJ17-E1MPN5</td>\n",
       "      <td>control</td>\n",
       "      <td>2021-07-17</td>\n",
       "      <td>850</td>\n",
       "      <td>1.0</td>\n",
       "      <td>0</td>\n",
       "      <td>PC</td>\n",
       "      <td>28</td>\n",
       "    </tr>\n",
       "    <tr>\n",
       "      <th>8639997</th>\n",
       "      <td>92UJ17-E1MPN5</td>\n",
       "      <td>control</td>\n",
       "      <td>2021-07-10</td>\n",
       "      <td>850</td>\n",
       "      <td>0.0</td>\n",
       "      <td>0</td>\n",
       "      <td>PC</td>\n",
       "      <td>27</td>\n",
       "    </tr>\n",
       "    <tr>\n",
       "      <th>8639998</th>\n",
       "      <td>92UJ17-E1MPN5</td>\n",
       "      <td>control</td>\n",
       "      <td>2021-07-11</td>\n",
       "      <td>450</td>\n",
       "      <td>1.0</td>\n",
       "      <td>0</td>\n",
       "      <td>PC</td>\n",
       "      <td>27</td>\n",
       "    </tr>\n",
       "    <tr>\n",
       "      <th>8639999</th>\n",
       "      <td>92UJ17-E1MPN5</td>\n",
       "      <td>control</td>\n",
       "      <td>2021-07-12</td>\n",
       "      <td>1350</td>\n",
       "      <td>1.0</td>\n",
       "      <td>0</td>\n",
       "      <td>PC</td>\n",
       "      <td>28</td>\n",
       "    </tr>\n",
       "  </tbody>\n",
       "</table>\n",
       "<p>8637176 rows × 8 columns</p>\n",
       "</div>"
      ],
      "text/plain": [
       "               user_id    group       date  cash  money  cheaters platform  \\\n",
       "0        VX6NLA-F5YMSW  control 2021-07-15   100    0.0         0     XBox   \n",
       "1        VX6NLA-F5YMSW  control 2021-07-14   400    0.0         0     XBox   \n",
       "2        VX6NLA-F5YMSW  control 2021-07-13   650    1.0         0     XBox   \n",
       "3        VX6NLA-F5YMSW  control 2021-07-11  1450    2.0         0     XBox   \n",
       "4        VX6NLA-F5YMSW  control 2021-07-12   900    0.0         0     XBox   \n",
       "...                ...      ...        ...   ...    ...       ...      ...   \n",
       "8639995  92UJ17-E1MPN5  control 2021-07-14   600    1.0         0       PC   \n",
       "8639996  92UJ17-E1MPN5  control 2021-07-17   850    1.0         0       PC   \n",
       "8639997  92UJ17-E1MPN5  control 2021-07-10   850    0.0         0       PC   \n",
       "8639998  92UJ17-E1MPN5  control 2021-07-11   450    1.0         0       PC   \n",
       "8639999  92UJ17-E1MPN5  control 2021-07-12  1350    1.0         0       PC   \n",
       "\n",
       "         week  \n",
       "0          28  \n",
       "1          28  \n",
       "2          28  \n",
       "3          27  \n",
       "4          28  \n",
       "...       ...  \n",
       "8639995    28  \n",
       "8639996    28  \n",
       "8639997    27  \n",
       "8639998    27  \n",
       "8639999    28  \n",
       "\n",
       "[8637176 rows x 8 columns]"
      ]
     },
     "execution_count": 42,
     "metadata": {},
     "output_type": "execute_result"
    }
   ],
   "source": [
    "players"
   ]
  },
  {
   "cell_type": "code",
   "execution_count": 49,
   "id": "f562f635-b89b-4953-a606-a9f1746169d0",
   "metadata": {},
   "outputs": [],
   "source": [
    "table = players.pivot_table(index='group', columns='week', values=['money'], aggfunc=['sum'])"
   ]
  },
  {
   "cell_type": "code",
   "execution_count": 51,
   "id": "0bfeb7d4-b1da-494c-8871-3582cfbfe4ed",
   "metadata": {},
   "outputs": [],
   "source": [
    "table.to_excel('table_ex.xlsx')"
   ]
  },
  {
   "cell_type": "code",
   "execution_count": null,
   "id": "ff561afd-bfd1-43d1-9a33-0a6ea0dd997f",
   "metadata": {},
   "outputs": [],
   "source": []
  },
  {
   "cell_type": "code",
   "execution_count": null,
   "id": "ef880371-7f56-47f7-bf78-9d1b2db09e48",
   "metadata": {},
   "outputs": [],
   "source": []
  },
  {
   "cell_type": "code",
   "execution_count": 45,
   "id": "e6f85862-2b53-4c79-a340-58ecb0006110",
   "metadata": {},
   "outputs": [],
   "source": [
    "table_week = players.pivot_table(index='week', values=['cash','money'], aggfunc=['sum'])"
   ]
  },
  {
   "cell_type": "code",
   "execution_count": 46,
   "id": "b52c57b9-e8b4-478a-aead-b59fe9047130",
   "metadata": {},
   "outputs": [
    {
     "data": {
      "text/html": [
       "<div>\n",
       "<style scoped>\n",
       "    .dataframe tbody tr th:only-of-type {\n",
       "        vertical-align: middle;\n",
       "    }\n",
       "\n",
       "    .dataframe tbody tr th {\n",
       "        vertical-align: top;\n",
       "    }\n",
       "\n",
       "    .dataframe thead tr th {\n",
       "        text-align: left;\n",
       "    }\n",
       "\n",
       "    .dataframe thead tr:last-of-type th {\n",
       "        text-align: right;\n",
       "    }\n",
       "</style>\n",
       "<table border=\"1\" class=\"dataframe\">\n",
       "  <thead>\n",
       "    <tr>\n",
       "      <th></th>\n",
       "      <th colspan=\"2\" halign=\"left\">sum</th>\n",
       "    </tr>\n",
       "    <tr>\n",
       "      <th></th>\n",
       "      <th>cash</th>\n",
       "      <th>money</th>\n",
       "    </tr>\n",
       "    <tr>\n",
       "      <th>week</th>\n",
       "      <th></th>\n",
       "      <th></th>\n",
       "    </tr>\n",
       "  </thead>\n",
       "  <tbody>\n",
       "    <tr>\n",
       "      <th>27</th>\n",
       "      <td>1721814300</td>\n",
       "      <td>1,607,626.7</td>\n",
       "    </tr>\n",
       "    <tr>\n",
       "      <th>28</th>\n",
       "      <td>4822151700</td>\n",
       "      <td>4,863,628.3</td>\n",
       "    </tr>\n",
       "  </tbody>\n",
       "</table>\n",
       "</div>"
      ],
      "text/plain": [
       "             sum            \n",
       "            cash       money\n",
       "week                        \n",
       "27    1721814300 1,607,626.7\n",
       "28    4822151700 4,863,628.3"
      ]
     },
     "execution_count": 46,
     "metadata": {},
     "output_type": "execute_result"
    }
   ],
   "source": [
    "table_week"
   ]
  },
  {
   "cell_type": "code",
   "execution_count": null,
   "id": "915c977d-26fc-4202-b833-e043a4773d86",
   "metadata": {},
   "outputs": [],
   "source": []
  },
  {
   "cell_type": "code",
   "execution_count": null,
   "id": "2f720029-d7c4-4df0-80c6-083b8e6e1402",
   "metadata": {},
   "outputs": [],
   "source": []
  },
  {
   "cell_type": "code",
   "execution_count": null,
   "id": "e0bb1a73-efb4-4301-a2e4-a9eead684f76",
   "metadata": {},
   "outputs": [],
   "source": []
  },
  {
   "cell_type": "code",
   "execution_count": null,
   "id": "bd44981e-37af-4f67-8c65-36936b36a668",
   "metadata": {},
   "outputs": [],
   "source": []
  },
  {
   "cell_type": "markdown",
   "id": "dd5896ad",
   "metadata": {},
   "source": [
    "Чтобы найти ещё читеров, нужно найти тех, кто не покупает валюту, но имеет большие траты"
   ]
  },
  {
   "cell_type": "code",
   "execution_count": null,
   "id": "4a1139ea",
   "metadata": {},
   "outputs": [],
   "source": [
    "player_much = np.percentile(players[['user_id',\t'group','cash','money']].groupby('user_id').agg('sum').cash, 95)"
   ]
  },
  {
   "cell_type": "code",
   "execution_count": null,
   "id": "0a982862",
   "metadata": {},
   "outputs": [],
   "source": [
    "player_group = players[['user_id','cash','money']].groupby('user_id').agg('sum')"
   ]
  },
  {
   "cell_type": "code",
   "execution_count": null,
   "id": "4dfb0a8e-33b6-49ac-8de5-850f5c697f2d",
   "metadata": {},
   "outputs": [],
   "source": [
    "player_group"
   ]
  },
  {
   "cell_type": "code",
   "execution_count": null,
   "id": "1749f077-4d0d-4698-8734-861630058903",
   "metadata": {},
   "outputs": [],
   "source": [
    "cheat_play = player_group.query('cash > @player_much and money == 0')"
   ]
  },
  {
   "cell_type": "code",
   "execution_count": null,
   "id": "c7109979",
   "metadata": {},
   "outputs": [],
   "source": [
    "cheat_play = cheat_play.reset_index()"
   ]
  },
  {
   "cell_type": "markdown",
   "id": "0af9b03c",
   "metadata": {},
   "source": [
    "Найден список игроков с большими тратами и без покупки валюты, скорее всего они читеры. Присвоим им значение 1"
   ]
  },
  {
   "cell_type": "code",
   "execution_count": null,
   "id": "830a372f",
   "metadata": {},
   "outputs": [],
   "source": [
    "data.loc[data['user_id'].isin(cheat_play['user_id']), 'cheaters'] = 1"
   ]
  },
  {
   "cell_type": "code",
   "execution_count": null,
   "id": "a97c3706",
   "metadata": {},
   "outputs": [],
   "source": [
    "players = data[data['cheaters'] == 0]"
   ]
  },
  {
   "cell_type": "markdown",
   "id": "85b512ee-a973-401d-8b40-738733879d5b",
   "metadata": {},
   "source": [
    "## ШАГ 3 Расчёт метрик и проведение теста"
   ]
  },
  {
   "cell_type": "markdown",
   "id": "fc1bcb33-b591-4a63-8053-df9699c1785a",
   "metadata": {},
   "source": [
    "Рассмотрим графики трат читеров и обычных игроков среди контрольной и тестовой выборок"
   ]
  },
  {
   "cell_type": "code",
   "execution_count": 167,
   "id": "1227a328-da1d-4039-ad30-4306bc182530",
   "metadata": {},
   "outputs": [
    {
     "data": {
      "image/png": "[encoded data removed]",
      "text/plain": [
       "<Figure size 1600x1000 with 1 Axes>"
      ]
     },
     "metadata": {},
     "output_type": "display_data"
    }
   ],
   "source": [
    "test_group = players.pivot_table(\n",
    "    index=['date', 'group'], values='cash', aggfunc='sum').reset_index()\n",
    "test_group.groupby('date')['cash'].sum().plot(figsize=(16, 10))\n",
    "plt.title('сумма трат по дням в обеих группах')\n",
    "plt.xlabel('Дата')\n",
    "plt.ylabel('траты')\n",
    "plt.show()"
   ]
  },
  {
   "cell_type": "code",
   "execution_count": 168,
   "id": "39ab3aff-6bb4-49ed-9dbc-d381aabb3e21",
   "metadata": {},
   "outputs": [
    {
     "data": {
      "image/png": "[encoded data removed]",
      "text/plain": [
       "<Figure size 1500x800 with 1 Axes>"
      ]
     },
     "metadata": {},
     "output_type": "display_data"
    }
   ],
   "source": [
    "plt.figure(figsize=(15, 8))\n",
    "test_group[test_group['group'] == 'control']['cash'].plot(color='g', label='control')\n",
    "test_group[test_group['group'] == 'test']['cash'].plot(color='r', label='test')\n",
    "plt.title('сумма трат по дням отдельно по каждой группе')\n",
    "plt.xlabel('дата')\n",
    "plt.ylabel('траты')\n",
    "plt.show()"
   ]
  },
  {
   "cell_type": "markdown",
   "id": "e9267553-509a-4b2e-8cea-45132b55c305",
   "metadata": {},
   "source": [
    "В обеих группах траты постепенно падают к 7 дню и резко растут на 8 день"
   ]
  },
  {
   "cell_type": "code",
   "execution_count": 169,
   "id": "f6eb80c8",
   "metadata": {},
   "outputs": [],
   "source": [
    "test_group = players[players['group'] == 'test']\n",
    "control_group = players[players['group'] == 'control']"
   ]
  },
  {
   "cell_type": "code",
   "execution_count": 170,
   "id": "ccc7cc4f",
   "metadata": {
    "scrolled": true
   },
   "outputs": [],
   "source": [
    "del cheaters\n",
    "del cheaters_true\n",
    "del ABgroup\n",
    "del cash\n",
    "del money\n",
    "del platforms"
   ]
  },
  {
   "cell_type": "code",
   "execution_count": 171,
   "id": "68fee575-1ec7-4b99-a5e2-cef731e69729",
   "metadata": {},
   "outputs": [
    {
     "data": {
      "text/html": [
       "<div>\n",
       "<style scoped>\n",
       "    .dataframe tbody tr th:only-of-type {\n",
       "        vertical-align: middle;\n",
       "    }\n",
       "\n",
       "    .dataframe tbody tr th {\n",
       "        vertical-align: top;\n",
       "    }\n",
       "\n",
       "    .dataframe thead th {\n",
       "        text-align: right;\n",
       "    }\n",
       "</style>\n",
       "<table border=\"1\" class=\"dataframe\">\n",
       "  <thead>\n",
       "    <tr style=\"text-align: right;\">\n",
       "      <th></th>\n",
       "      <th>user_id</th>\n",
       "      <th>group</th>\n",
       "      <th>date</th>\n",
       "      <th>cash</th>\n",
       "      <th>money</th>\n",
       "      <th>cheaters</th>\n",
       "      <th>platform</th>\n",
       "    </tr>\n",
       "  </thead>\n",
       "  <tbody>\n",
       "    <tr>\n",
       "      <th>8535537</th>\n",
       "      <td>0004MK-VW0O9L</td>\n",
       "      <td>test</td>\n",
       "      <td>2021-07-11</td>\n",
       "      <td>50</td>\n",
       "      <td>0.0</td>\n",
       "      <td>0</td>\n",
       "      <td>PC</td>\n",
       "    </tr>\n",
       "    <tr>\n",
       "      <th>8535536</th>\n",
       "      <td>0004MK-VW0O9L</td>\n",
       "      <td>test</td>\n",
       "      <td>2021-07-12</td>\n",
       "      <td>550</td>\n",
       "      <td>0.0</td>\n",
       "      <td>0</td>\n",
       "      <td>PC</td>\n",
       "    </tr>\n",
       "    <tr>\n",
       "      <th>8535538</th>\n",
       "      <td>0004MK-VW0O9L</td>\n",
       "      <td>test</td>\n",
       "      <td>2021-07-17</td>\n",
       "      <td>550</td>\n",
       "      <td>1.0</td>\n",
       "      <td>0</td>\n",
       "      <td>PC</td>\n",
       "    </tr>\n",
       "    <tr>\n",
       "      <th>8535539</th>\n",
       "      <td>0004MK-VW0O9L</td>\n",
       "      <td>test</td>\n",
       "      <td>2021-07-14</td>\n",
       "      <td>1250</td>\n",
       "      <td>2.0</td>\n",
       "      <td>0</td>\n",
       "      <td>PC</td>\n",
       "    </tr>\n",
       "    <tr>\n",
       "      <th>8535540</th>\n",
       "      <td>0004MK-VW0O9L</td>\n",
       "      <td>test</td>\n",
       "      <td>2021-07-10</td>\n",
       "      <td>0</td>\n",
       "      <td>0.0</td>\n",
       "      <td>0</td>\n",
       "      <td>PC</td>\n",
       "    </tr>\n",
       "    <tr>\n",
       "      <th>...</th>\n",
       "      <td>...</td>\n",
       "      <td>...</td>\n",
       "      <td>...</td>\n",
       "      <td>...</td>\n",
       "      <td>...</td>\n",
       "      <td>...</td>\n",
       "      <td>...</td>\n",
       "    </tr>\n",
       "    <tr>\n",
       "      <th>1449586</th>\n",
       "      <td>ZZZTR5-QSI6D3</td>\n",
       "      <td>test</td>\n",
       "      <td>2021-07-16</td>\n",
       "      <td>500</td>\n",
       "      <td>0.0</td>\n",
       "      <td>0</td>\n",
       "      <td>XBox</td>\n",
       "    </tr>\n",
       "    <tr>\n",
       "      <th>1449585</th>\n",
       "      <td>ZZZTR5-QSI6D3</td>\n",
       "      <td>test</td>\n",
       "      <td>2021-07-17</td>\n",
       "      <td>900</td>\n",
       "      <td>0.0</td>\n",
       "      <td>0</td>\n",
       "      <td>XBox</td>\n",
       "    </tr>\n",
       "    <tr>\n",
       "      <th>1449584</th>\n",
       "      <td>ZZZTR5-QSI6D3</td>\n",
       "      <td>test</td>\n",
       "      <td>2021-07-13</td>\n",
       "      <td>800</td>\n",
       "      <td>0.0</td>\n",
       "      <td>0</td>\n",
       "      <td>XBox</td>\n",
       "    </tr>\n",
       "    <tr>\n",
       "      <th>1449591</th>\n",
       "      <td>ZZZTR5-QSI6D3</td>\n",
       "      <td>test</td>\n",
       "      <td>2021-07-10</td>\n",
       "      <td>1000</td>\n",
       "      <td>1.0</td>\n",
       "      <td>0</td>\n",
       "      <td>XBox</td>\n",
       "    </tr>\n",
       "    <tr>\n",
       "      <th>1449590</th>\n",
       "      <td>ZZZTR5-QSI6D3</td>\n",
       "      <td>test</td>\n",
       "      <td>2021-07-15</td>\n",
       "      <td>800</td>\n",
       "      <td>0.0</td>\n",
       "      <td>0</td>\n",
       "      <td>XBox</td>\n",
       "    </tr>\n",
       "  </tbody>\n",
       "</table>\n",
       "<p>4314496 rows × 7 columns</p>\n",
       "</div>"
      ],
      "text/plain": [
       "               user_id group        date  cash  money  cheaters platform\n",
       "8535537  0004MK-VW0O9L  test  2021-07-11    50    0.0         0       PC\n",
       "8535536  0004MK-VW0O9L  test  2021-07-12   550    0.0         0       PC\n",
       "8535538  0004MK-VW0O9L  test  2021-07-17   550    1.0         0       PC\n",
       "8535539  0004MK-VW0O9L  test  2021-07-14  1250    2.0         0       PC\n",
       "8535540  0004MK-VW0O9L  test  2021-07-10     0    0.0         0       PC\n",
       "...                ...   ...         ...   ...    ...       ...      ...\n",
       "1449586  ZZZTR5-QSI6D3  test  2021-07-16   500    0.0         0     XBox\n",
       "1449585  ZZZTR5-QSI6D3  test  2021-07-17   900    0.0         0     XBox\n",
       "1449584  ZZZTR5-QSI6D3  test  2021-07-13   800    0.0         0     XBox\n",
       "1449591  ZZZTR5-QSI6D3  test  2021-07-10  1000    1.0         0     XBox\n",
       "1449590  ZZZTR5-QSI6D3  test  2021-07-15   800    0.0         0     XBox\n",
       "\n",
       "[4314496 rows x 7 columns]"
      ]
     },
     "execution_count": 171,
     "metadata": {},
     "output_type": "execute_result"
    }
   ],
   "source": [
    "test_group.sort_values(by=['user_id'])"
   ]
  },
  {
   "cell_type": "markdown",
   "id": "cab66b1f",
   "metadata": {},
   "source": [
    "### Построим графики распределения и сделаем выводы"
   ]
  },
  {
   "cell_type": "code",
   "execution_count": 172,
   "id": "57722861-aaf0-4cc8-8c1f-5ed2c3aa671c",
   "metadata": {},
   "outputs": [],
   "source": [
    "test_group_rasp = test_group.pivot_table(\n",
    "    index=['user_id'], values=['cash','money'], aggfunc='sum').reset_index()"
   ]
  },
  {
   "cell_type": "code",
   "execution_count": 173,
   "id": "aba3528b-f63d-4847-b644-a6dd70a46bdf",
   "metadata": {},
   "outputs": [
    {
     "data": {
      "text/html": [
       "<div>\n",
       "<style scoped>\n",
       "    .dataframe tbody tr th:only-of-type {\n",
       "        vertical-align: middle;\n",
       "    }\n",
       "\n",
       "    .dataframe tbody tr th {\n",
       "        vertical-align: top;\n",
       "    }\n",
       "\n",
       "    .dataframe thead th {\n",
       "        text-align: right;\n",
       "    }\n",
       "</style>\n",
       "<table border=\"1\" class=\"dataframe\">\n",
       "  <thead>\n",
       "    <tr style=\"text-align: right;\">\n",
       "      <th></th>\n",
       "      <th>user_id</th>\n",
       "      <th>cash</th>\n",
       "      <th>money</th>\n",
       "    </tr>\n",
       "  </thead>\n",
       "  <tbody>\n",
       "    <tr>\n",
       "      <th>0</th>\n",
       "      <td>0004MK-VW0O9L</td>\n",
       "      <td>6300</td>\n",
       "      <td>5.0</td>\n",
       "    </tr>\n",
       "    <tr>\n",
       "      <th>1</th>\n",
       "      <td>0005S4-UEC6BE</td>\n",
       "      <td>5000</td>\n",
       "      <td>6.0</td>\n",
       "    </tr>\n",
       "    <tr>\n",
       "      <th>2</th>\n",
       "      <td>0007I5-EWUD6O</td>\n",
       "      <td>6350</td>\n",
       "      <td>6.9</td>\n",
       "    </tr>\n",
       "    <tr>\n",
       "      <th>3</th>\n",
       "      <td>000IF8-UU506H</td>\n",
       "      <td>5350</td>\n",
       "      <td>6.9</td>\n",
       "    </tr>\n",
       "    <tr>\n",
       "      <th>4</th>\n",
       "      <td>000IX6-VZLBS1</td>\n",
       "      <td>9900</td>\n",
       "      <td>10.9</td>\n",
       "    </tr>\n",
       "    <tr>\n",
       "      <th>...</th>\n",
       "      <td>...</td>\n",
       "      <td>...</td>\n",
       "      <td>...</td>\n",
       "    </tr>\n",
       "    <tr>\n",
       "      <th>539307</th>\n",
       "      <td>ZZZIS2-9EYJF3</td>\n",
       "      <td>7100</td>\n",
       "      <td>4.0</td>\n",
       "    </tr>\n",
       "    <tr>\n",
       "      <th>539308</th>\n",
       "      <td>ZZZONB-1W7QEW</td>\n",
       "      <td>6750</td>\n",
       "      <td>7.0</td>\n",
       "    </tr>\n",
       "    <tr>\n",
       "      <th>539309</th>\n",
       "      <td>ZZZPEX-P2T8BH</td>\n",
       "      <td>6600</td>\n",
       "      <td>7.0</td>\n",
       "    </tr>\n",
       "    <tr>\n",
       "      <th>539310</th>\n",
       "      <td>ZZZTEN-0QGZ3X</td>\n",
       "      <td>4600</td>\n",
       "      <td>6.0</td>\n",
       "    </tr>\n",
       "    <tr>\n",
       "      <th>539311</th>\n",
       "      <td>ZZZTR5-QSI6D3</td>\n",
       "      <td>5900</td>\n",
       "      <td>1.0</td>\n",
       "    </tr>\n",
       "  </tbody>\n",
       "</table>\n",
       "<p>539312 rows × 3 columns</p>\n",
       "</div>"
      ],
      "text/plain": [
       "              user_id  cash  money\n",
       "0       0004MK-VW0O9L  6300    5.0\n",
       "1       0005S4-UEC6BE  5000    6.0\n",
       "2       0007I5-EWUD6O  6350    6.9\n",
       "3       000IF8-UU506H  5350    6.9\n",
       "4       000IX6-VZLBS1  9900   10.9\n",
       "...               ...   ...    ...\n",
       "539307  ZZZIS2-9EYJF3  7100    4.0\n",
       "539308  ZZZONB-1W7QEW  6750    7.0\n",
       "539309  ZZZPEX-P2T8BH  6600    7.0\n",
       "539310  ZZZTEN-0QGZ3X  4600    6.0\n",
       "539311  ZZZTR5-QSI6D3  5900    1.0\n",
       "\n",
       "[539312 rows x 3 columns]"
      ]
     },
     "execution_count": 173,
     "metadata": {},
     "output_type": "execute_result"
    }
   ],
   "source": [
    "test_group_rasp"
   ]
  },
  {
   "cell_type": "code",
   "execution_count": 174,
   "id": "c0605870-e7f1-4eff-ad62-c9b198bb1e8e",
   "metadata": {},
   "outputs": [
    {
     "data": {
      "image/png": "[encoded data removed]",
      "text/plain": [
       "<Figure size 640x480 with 1 Axes>"
      ]
     },
     "metadata": {},
     "output_type": "display_data"
    }
   ],
   "source": [
    "test_group_rasp.plot.hist(y='cash')\n",
    "plt.title('График распределения для тестовой группы')\n",
    "plt.xlabel('траты')\n",
    "plt.ylabel('количество')\n",
    "plt.show()"
   ]
  },
  {
   "cell_type": "code",
   "execution_count": 175,
   "id": "18874223-9408-4d63-8f42-d6ccd9e6f5e5",
   "metadata": {},
   "outputs": [
    {
     "name": "stdout",
     "output_type": "stream",
     "text": [
      "Эксцесс  0.006093711613086583\n",
      "Ассиметрия  0.010217085257937361\n"
     ]
    }
   ],
   "source": [
    "print(\"Эксцесс \", kurtosis(test_group_rasp['cash']))\n",
    "print(\"Ассиметрия \", skew(test_group_rasp['cash']))"
   ]
  },
  {
   "cell_type": "markdown",
   "id": "81f41edb",
   "metadata": {},
   "source": [
    "распределение нормальное"
   ]
  },
  {
   "cell_type": "code",
   "execution_count": 176,
   "id": "c7b642af-4bce-450f-a241-fc16b41b4d9e",
   "metadata": {},
   "outputs": [],
   "source": [
    "cotrol_group_rasp = control_group.pivot_table(\n",
    "    index=['user_id'], values='cash', aggfunc='sum').reset_index()"
   ]
  },
  {
   "cell_type": "code",
   "execution_count": 177,
   "id": "5dbfe6bb-0000-4867-85fd-c9d2f2d94356",
   "metadata": {},
   "outputs": [
    {
     "data": {
      "image/png": "[encoded data removed]",
      "text/plain": [
       "<Figure size 640x480 with 1 Axes>"
      ]
     },
     "metadata": {},
     "output_type": "display_data"
    }
   ],
   "source": [
    "cotrol_group_rasp.plot.hist(y='cash')\n",
    "plt.title('График распределения для контрольной группы')\n",
    "plt.xlabel('траты')\n",
    "plt.ylabel('количество')\n",
    "plt.show()"
   ]
  },
  {
   "cell_type": "code",
   "execution_count": 178,
   "id": "7ba93d59-51bb-482d-9629-45074756db25",
   "metadata": {},
   "outputs": [
    {
     "name": "stdout",
     "output_type": "stream",
     "text": [
      "Эксцесс  0.03639547405548127\n",
      "Ассиметрия  0.044479811298419145\n"
     ]
    }
   ],
   "source": [
    "print(\"Эксцесс \", kurtosis(cotrol_group_rasp['cash']))\n",
    "print(\"Ассиметрия \", skew(cotrol_group_rasp['cash']))"
   ]
  },
  {
   "cell_type": "markdown",
   "id": "013ae7bc-fe0a-48c2-b623-de066ad2ff32",
   "metadata": {},
   "source": [
    "распределение нормальное"
   ]
  },
  {
   "cell_type": "markdown",
   "id": "14342a58",
   "metadata": {},
   "source": [
    "### Найдем ARPU и ARPPU, а также доверительные интервалы"
   ]
  },
  {
   "cell_type": "code",
   "execution_count": 179,
   "id": "a41dea5f",
   "metadata": {},
   "outputs": [
    {
     "name": "stdout",
     "output_type": "stream",
     "text": [
      "ARPU тестовой группы: 6.162275602990477 \n",
      " ARPU контрольной группы:  5.829478250563438\n"
     ]
    }
   ],
   "source": [
    "ARPU_test = test_group['money'].sum()/len(test_group['user_id'].unique())\n",
    "ARPU_control = control_group['money'].sum()/len(control_group['user_id'].unique())\n",
    "print('ARPU тестовой группы:', ARPU_test, '\\n', 'ARPU контрольной группы: ', ARPU_control)"
   ]
  },
  {
   "cell_type": "markdown",
   "id": "8f80a38e-8185-4063-8ade-cc8a40649c30",
   "metadata": {},
   "source": [
    "### Теперь найдем ARPPU"
   ]
  },
  {
   "cell_type": "code",
   "execution_count": 180,
   "id": "084901e2-0721-4298-b8aa-56dfa2632be2",
   "metadata": {},
   "outputs": [
    {
     "name": "stdout",
     "output_type": "stream",
     "text": [
      "ARPPU тестовой группы -  6.163144115007183 \n",
      " ARPPU контрольной группы -  5.831108828541814\n"
     ]
    }
   ],
   "source": [
    "ARPPU_test = test_group.query('money > 0')['money'].sum() / len(test_group.query('money > 0')['user_id'].unique())\n",
    "ARPPU_control = control_group.query('money > 0')['money'].sum() / len(control_group.query('money > 0')['user_id'].unique())\n",
    "print('ARPPU тестовой группы - ', ARPPU_test, '\\n', 'ARPPU контрольной группы - ', ARPPU_control)"
   ]
  },
  {
   "cell_type": "code",
   "execution_count": 181,
   "id": "9004f804-9609-4acf-83c5-c472991dc1a4",
   "metadata": {},
   "outputs": [
    {
     "data": {
      "text/html": [
       "<div>\n",
       "<style scoped>\n",
       "    .dataframe tbody tr th:only-of-type {\n",
       "        vertical-align: middle;\n",
       "    }\n",
       "\n",
       "    .dataframe tbody tr th {\n",
       "        vertical-align: top;\n",
       "    }\n",
       "\n",
       "    .dataframe thead th {\n",
       "        text-align: right;\n",
       "    }\n",
       "</style>\n",
       "<table border=\"1\" class=\"dataframe\">\n",
       "  <thead>\n",
       "    <tr style=\"text-align: right;\">\n",
       "      <th></th>\n",
       "      <th>user_id</th>\n",
       "      <th>group</th>\n",
       "      <th>date</th>\n",
       "      <th>cash</th>\n",
       "      <th>money</th>\n",
       "      <th>cheaters</th>\n",
       "      <th>platform</th>\n",
       "    </tr>\n",
       "  </thead>\n",
       "  <tbody>\n",
       "    <tr>\n",
       "      <th>8</th>\n",
       "      <td>2AXN3D-71ZN86</td>\n",
       "      <td>test</td>\n",
       "      <td>2021-07-13</td>\n",
       "      <td>500</td>\n",
       "      <td>0.0</td>\n",
       "      <td>0</td>\n",
       "      <td>PC</td>\n",
       "    </tr>\n",
       "    <tr>\n",
       "      <th>9</th>\n",
       "      <td>2AXN3D-71ZN86</td>\n",
       "      <td>test</td>\n",
       "      <td>2021-07-10</td>\n",
       "      <td>550</td>\n",
       "      <td>0.0</td>\n",
       "      <td>0</td>\n",
       "      <td>PC</td>\n",
       "    </tr>\n",
       "    <tr>\n",
       "      <th>10</th>\n",
       "      <td>2AXN3D-71ZN86</td>\n",
       "      <td>test</td>\n",
       "      <td>2021-07-14</td>\n",
       "      <td>1700</td>\n",
       "      <td>1.0</td>\n",
       "      <td>0</td>\n",
       "      <td>PC</td>\n",
       "    </tr>\n",
       "    <tr>\n",
       "      <th>11</th>\n",
       "      <td>2AXN3D-71ZN86</td>\n",
       "      <td>test</td>\n",
       "      <td>2021-07-15</td>\n",
       "      <td>600</td>\n",
       "      <td>0.0</td>\n",
       "      <td>0</td>\n",
       "      <td>PC</td>\n",
       "    </tr>\n",
       "    <tr>\n",
       "      <th>12</th>\n",
       "      <td>2AXN3D-71ZN86</td>\n",
       "      <td>test</td>\n",
       "      <td>2021-07-17</td>\n",
       "      <td>0</td>\n",
       "      <td>0.0</td>\n",
       "      <td>0</td>\n",
       "      <td>PC</td>\n",
       "    </tr>\n",
       "    <tr>\n",
       "      <th>...</th>\n",
       "      <td>...</td>\n",
       "      <td>...</td>\n",
       "      <td>...</td>\n",
       "      <td>...</td>\n",
       "      <td>...</td>\n",
       "      <td>...</td>\n",
       "      <td>...</td>\n",
       "    </tr>\n",
       "    <tr>\n",
       "      <th>8639963</th>\n",
       "      <td>YO85DZ-Q7ZCCH</td>\n",
       "      <td>test</td>\n",
       "      <td>2021-07-14</td>\n",
       "      <td>1200</td>\n",
       "      <td>2.0</td>\n",
       "      <td>0</td>\n",
       "      <td>PS4</td>\n",
       "    </tr>\n",
       "    <tr>\n",
       "      <th>8639964</th>\n",
       "      <td>YO85DZ-Q7ZCCH</td>\n",
       "      <td>test</td>\n",
       "      <td>2021-07-11</td>\n",
       "      <td>1550</td>\n",
       "      <td>1.0</td>\n",
       "      <td>0</td>\n",
       "      <td>PS4</td>\n",
       "    </tr>\n",
       "    <tr>\n",
       "      <th>8639965</th>\n",
       "      <td>YO85DZ-Q7ZCCH</td>\n",
       "      <td>test</td>\n",
       "      <td>2021-07-16</td>\n",
       "      <td>150</td>\n",
       "      <td>0.0</td>\n",
       "      <td>0</td>\n",
       "      <td>PS4</td>\n",
       "    </tr>\n",
       "    <tr>\n",
       "      <th>8639966</th>\n",
       "      <td>YO85DZ-Q7ZCCH</td>\n",
       "      <td>test</td>\n",
       "      <td>2021-07-17</td>\n",
       "      <td>0</td>\n",
       "      <td>0.0</td>\n",
       "      <td>0</td>\n",
       "      <td>PS4</td>\n",
       "    </tr>\n",
       "    <tr>\n",
       "      <th>8639967</th>\n",
       "      <td>YO85DZ-Q7ZCCH</td>\n",
       "      <td>test</td>\n",
       "      <td>2021-07-15</td>\n",
       "      <td>950</td>\n",
       "      <td>1.0</td>\n",
       "      <td>0</td>\n",
       "      <td>PS4</td>\n",
       "    </tr>\n",
       "  </tbody>\n",
       "</table>\n",
       "<p>4314496 rows × 7 columns</p>\n",
       "</div>"
      ],
      "text/plain": [
       "               user_id group        date  cash  money  cheaters platform\n",
       "8        2AXN3D-71ZN86  test  2021-07-13   500    0.0         0       PC\n",
       "9        2AXN3D-71ZN86  test  2021-07-10   550    0.0         0       PC\n",
       "10       2AXN3D-71ZN86  test  2021-07-14  1700    1.0         0       PC\n",
       "11       2AXN3D-71ZN86  test  2021-07-15   600    0.0         0       PC\n",
       "12       2AXN3D-71ZN86  test  2021-07-17     0    0.0         0       PC\n",
       "...                ...   ...         ...   ...    ...       ...      ...\n",
       "8639963  YO85DZ-Q7ZCCH  test  2021-07-14  1200    2.0         0      PS4\n",
       "8639964  YO85DZ-Q7ZCCH  test  2021-07-11  1550    1.0         0      PS4\n",
       "8639965  YO85DZ-Q7ZCCH  test  2021-07-16   150    0.0         0      PS4\n",
       "8639966  YO85DZ-Q7ZCCH  test  2021-07-17     0    0.0         0      PS4\n",
       "8639967  YO85DZ-Q7ZCCH  test  2021-07-15   950    1.0         0      PS4\n",
       "\n",
       "[4314496 rows x 7 columns]"
      ]
     },
     "execution_count": 181,
     "metadata": {},
     "output_type": "execute_result"
    }
   ],
   "source": [
    "test_group"
   ]
  },
  {
   "cell_type": "markdown",
   "id": "f68c0b4d",
   "metadata": {},
   "source": [
    "### также найдем их доверительные интервалы возьмем доверительную вероятность 95%"
   ]
  },
  {
   "cell_type": "code",
   "execution_count": 182,
   "id": "5fdf6ee9",
   "metadata": {},
   "outputs": [],
   "source": [
    "def confidence(df, column, alpha = 0.95):\n",
    "    interval = st.norm.interval(alpha, loc=df[column].mean(), scale=df[column].std())\n",
    "    return interval"
   ]
  },
  {
   "cell_type": "code",
   "execution_count": 183,
   "id": "8dc6a5a1-e1ec-45a8-b4d8-cd3a4c01354f",
   "metadata": {},
   "outputs": [],
   "source": [
    "test_group.drop('date', axis=1, inplace=True)\n",
    "control_group.drop('date', axis=1, inplace=True)"
   ]
  },
  {
   "cell_type": "code",
   "execution_count": 184,
   "id": "52268a6f",
   "metadata": {},
   "outputs": [
    {
     "name": "stdout",
     "output_type": "stream",
     "text": [
      "Доверительный интервал тестовой группы среди всех игроков (2.4170771425285396, 9.907474063452419)\n",
      "Доверительный интервал контрольной группы среди всех игроков (2.1572457079500182, 9.501710793176855)\n"
     ]
    }
   ],
   "source": [
    "test_confidence = confidence(test_group.groupby('user_id').agg('sum'), 'money')\n",
    "print('Доверительный интервал тестовой группы среди всех игроков', test_confidence)\n",
    "control_confidence = confidence(control_group.groupby('user_id').agg('sum'), 'money')\n",
    "print('Доверительный интервал контрольной группы среди всех игроков', control_confidence)"
   ]
  },
  {
   "cell_type": "code",
   "execution_count": 185,
   "id": "3d0ca5f7",
   "metadata": {},
   "outputs": [
    {
     "name": "stdout",
     "output_type": "stream",
     "text": [
      "Доверительный интервал тестовой группы среди платящих игроков (2.4204277288673626, 9.905860501146952)\n",
      "Доверительный интервал контрольной группы среди платящих игроков (2.163338538240738, 9.498879118842845)\n"
     ]
    }
   ],
   "source": [
    "test_paying_confidence = confidence(test_group.query('money > 0').groupby('user_id').agg('sum'), 'money')\n",
    "print('Доверительный интервал тестовой группы среди платящих игроков', test_paying_confidence)\n",
    "control_paying_confidence = confidence(control_group.query('money > 0').groupby('user_id').agg('sum'), 'money')\n",
    "print('Доверительный интервал контрольной группы среди платящих игроков', control_paying_confidence)"
   ]
  },
  {
   "cell_type": "code",
   "execution_count": 186,
   "id": "0ae1cb61",
   "metadata": {},
   "outputs": [
    {
     "name": "stdout",
     "output_type": "stream",
     "text": [
      "ARPPU тестовой группы больше контрольной на  5.694 %\n"
     ]
    }
   ],
   "source": [
    "print('ARPPU тестовой группы больше контрольной на ', round((ARPPU_test - ARPPU_control) / ARPPU_control * 100, 3), '%')"
   ]
  },
  {
   "cell_type": "markdown",
   "id": "938d0f29-2c79-48cf-a0de-6c1fe6995156",
   "metadata": {},
   "source": [
    "Проведём z-test, чтобы сравнить выборки, так как распределение нормальное"
   ]
  },
  {
   "cell_type": "markdown",
   "id": "91db8162",
   "metadata": {},
   "source": [
    "### Видим, что интервалы пересекаются по обоим метрикам, это может означать, что результаты случайны, результата от акции скорее всего нет"
   ]
  },
  {
   "cell_type": "markdown",
   "id": "cb1d3732-7e21-43ae-8bfc-699eba0654d9",
   "metadata": {},
   "source": [
    "Теперь исследуем этот вопрос по каждой платформе"
   ]
  },
  {
   "cell_type": "code",
   "execution_count": 187,
   "id": "17616ed4",
   "metadata": {},
   "outputs": [],
   "source": [
    "test_group_PC = test_group.query('platform == \"PC\"')\n",
    "test_group_PS4 = test_group.query('platform == \"PS4\"')\n",
    "test_group_Xbox = test_group.query('platform == \"XBox\"')\n",
    "control_group_PC = control_group.query('platform == \"PC\"')\n",
    "control_group_PS4 = control_group.query('platform == \"PS4\"')\n",
    "control_group_Xbox = control_group.query('platform == \"XBox\"')"
   ]
  },
  {
   "cell_type": "markdown",
   "id": "ef9c622f",
   "metadata": {},
   "source": [
    "### создадим функции для платформ"
   ]
  },
  {
   "cell_type": "code",
   "execution_count": 188,
   "id": "01199dff",
   "metadata": {},
   "outputs": [],
   "source": [
    "def metrica(df):\n",
    "    ARU = df['money'].sum()/len(df['user_id'].unique())\n",
    "    print('ARPU', ARU)\n",
    "    ARPPU = df.query('money > 0')['money'].sum() / len(df.query('money > 0')['user_id'].unique())\n",
    "    print('ARPPU', ARPPU)\n",
    "    \n",
    "def intervals(df, column, alpha = 0.95):\n",
    "    interval = st.norm.interval(alpha, loc=df[column].mean(), scale=df[column].std())\n",
    "    print('Доверительный интервал', interval)\n",
    "    \n",
    "def grafics(df, alpha = 0.95):\n",
    "    dpay = df.query('money > 0')\n",
    "    dpay = dpay.groupby('user_id').agg('sum').reset_index()\n",
    "    dpay.plot.hist(y='money')\n",
    "    plt.title('График распределения для платящих игроков')\n",
    "    plt.xlabel('money')\n",
    "    plt.ylabel('количество')\n",
    "    plt.show()\n",
    "    print(\"Эксцесс \", kurtosis(dpay['money']))\n",
    "    print(\"Ассиметрия \", skew(dpay['money']))\n",
    "    dfs = df.groupby('user_id').agg('sum').reset_index()\n",
    "    dfs.plot.hist(y='money',color='green')\n",
    "    plt.title('График распределения для всех игроков')\n",
    "    plt.xlabel('money')\n",
    "    plt.ylabel('количество')\n",
    "    plt.show()\n",
    "    print(\"Эксцесс \", kurtosis(dfs['money']))\n",
    "    print(\"Ассиметрия \", skew(dfs['money']))\n",
    " "
   ]
  },
  {
   "cell_type": "markdown",
   "id": "ee33789e",
   "metadata": {},
   "source": [
    "### тестовая группа для игроков на ПК"
   ]
  },
  {
   "cell_type": "code",
   "execution_count": 189,
   "id": "b672fe1b",
   "metadata": {},
   "outputs": [
    {
     "name": "stdout",
     "output_type": "stream",
     "text": [
      "ARPU 6.26904615726838\n",
      "ARPPU 6.269743492769737\n"
     ]
    }
   ],
   "source": [
    "metrica(test_group_PC)"
   ]
  },
  {
   "cell_type": "code",
   "execution_count": 190,
   "id": "18c72c74",
   "metadata": {},
   "outputs": [
    {
     "data": {
      "image/png": "[encoded data removed]",
      "text/plain": [
       "<Figure size 640x480 with 1 Axes>"
      ]
     },
     "metadata": {},
     "output_type": "display_data"
    },
    {
     "name": "stdout",
     "output_type": "stream",
     "text": [
      "Эксцесс  0.04202343693785293\n",
      "Ассиметрия  0.25253229675619193\n"
     ]
    },
    {
     "data": {
      "image/png": "[encoded data removed]",
      "text/plain": [
       "<Figure size 640x480 with 1 Axes>"
      ]
     },
     "metadata": {},
     "output_type": "display_data"
    },
    {
     "name": "stdout",
     "output_type": "stream",
     "text": [
      "Эксцесс  0.04797887632809106\n",
      "Ассиметрия  0.24937041981274452\n"
     ]
    }
   ],
   "source": [
    "grafics(test_group_PC)"
   ]
  },
  {
   "cell_type": "code",
   "execution_count": 191,
   "id": "1db279b7-d422-4b37-ad27-905df6912615",
   "metadata": {},
   "outputs": [
    {
     "name": "stdout",
     "output_type": "stream",
     "text": [
      "Доверительный интервал (-0.8020207189985556, 2.3692822583156508)\n"
     ]
    }
   ],
   "source": [
    "intervals(test_group_PC, 'money', alpha = 0.95)"
   ]
  },
  {
   "cell_type": "markdown",
   "id": "499a5a60-125f-43b5-83f4-77e1a5b720a2",
   "metadata": {},
   "source": [
    "Есть ассиметрия, но распределение близко к нормальному"
   ]
  },
  {
   "cell_type": "markdown",
   "id": "4ce82076-9ec3-4025-8b65-633acab574b0",
   "metadata": {},
   "source": [
    "### Контрольная группа для игроков на ПК"
   ]
  },
  {
   "cell_type": "code",
   "execution_count": 192,
   "id": "24531e6d-d27b-472c-acb2-5d6dc4468887",
   "metadata": {},
   "outputs": [
    {
     "name": "stdout",
     "output_type": "stream",
     "text": [
      "ARPU 5.6462013442236225\n",
      "ARPPU 5.64830690451673\n"
     ]
    }
   ],
   "source": [
    "metrica(control_group_PC)"
   ]
  },
  {
   "cell_type": "code",
   "execution_count": 193,
   "id": "0c58d8ff-ed6a-4de2-b186-587375ce653d",
   "metadata": {},
   "outputs": [
    {
     "data": {
      "image/png": "[encoded data removed]",
      "text/plain": [
       "<Figure size 640x480 with 1 Axes>"
      ]
     },
     "metadata": {},
     "output_type": "display_data"
    },
    {
     "name": "stdout",
     "output_type": "stream",
     "text": [
      "Эксцесс  -0.008085001731900299\n",
      "Ассиметрия  0.2182449582961385\n"
     ]
    },
    {
     "data": {
      "image/png": "[encoded data removed]",
      "text/plain": [
       "<Figure size 640x480 with 1 Axes>"
      ]
     },
     "metadata": {},
     "output_type": "display_data"
    },
    {
     "name": "stdout",
     "output_type": "stream",
     "text": [
      "Эксцесс  0.00729470311058078\n",
      "Ассиметрия  0.20938340950020856\n"
     ]
    }
   ],
   "source": [
    "grafics(control_group_PC)"
   ]
  },
  {
   "cell_type": "code",
   "execution_count": 194,
   "id": "b3665a6a-4028-4b45-a601-06f65c90c56b",
   "metadata": {},
   "outputs": [
    {
     "name": "stdout",
     "output_type": "stream",
     "text": [
      "Доверительный интервал (-0.7718587664080462, 2.1834091024639517)\n"
     ]
    }
   ],
   "source": [
    "intervals(control_group_PC, 'money', alpha = 0.95)"
   ]
  },
  {
   "cell_type": "markdown",
   "id": "64f7b9a9-f6bc-4462-8505-248724052cea",
   "metadata": {},
   "source": [
    "Интервалы пересекаются, результаты от акции получены случайно, но метрики ARPU и ARPPU больше для тестовой выборки. Значит акция немного подействовала на игроков на ПК"
   ]
  },
  {
   "cell_type": "markdown",
   "id": "28b4f120-0790-430f-ba95-e84b92bee45d",
   "metadata": {},
   "source": [
    "### тестовая группа для игроков на PS4"
   ]
  },
  {
   "cell_type": "code",
   "execution_count": 195,
   "id": "f87272ed-ab63-4e23-80aa-5d5e7e91de92",
   "metadata": {},
   "outputs": [
    {
     "name": "stdout",
     "output_type": "stream",
     "text": [
      "ARPU 6.0848825906418105\n",
      "ARPPU 6.085866288339104\n"
     ]
    }
   ],
   "source": [
    "metrica(test_group_PS4)"
   ]
  },
  {
   "cell_type": "code",
   "execution_count": 196,
   "id": "a0d60145-4ad6-4ae4-a9b3-105e7c856240",
   "metadata": {},
   "outputs": [
    {
     "data": {
      "image/png": "[encoded data removed]",
      "text/plain": [
       "<Figure size 640x480 with 1 Axes>"
      ]
     },
     "metadata": {},
     "output_type": "display_data"
    },
    {
     "name": "stdout",
     "output_type": "stream",
     "text": [
      "Эксцесс  -0.0025045069911668882\n",
      "Ассиметрия  0.2226458689791371\n"
     ]
    },
    {
     "data": {
      "image/png": "[encoded data removed]",
      "text/plain": [
       "<Figure size 640x480 with 1 Axes>"
      ]
     },
     "metadata": {},
     "output_type": "display_data"
    },
    {
     "name": "stdout",
     "output_type": "stream",
     "text": [
      "Эксцесс  0.005903475589768448\n",
      "Ассиметрия  0.21822758720072227\n"
     ]
    }
   ],
   "source": [
    "grafics(test_group_PS4)"
   ]
  },
  {
   "cell_type": "code",
   "execution_count": 197,
   "id": "7681fcfb-f974-414a-a551-3206942a1e8c",
   "metadata": {},
   "outputs": [
    {
     "name": "stdout",
     "output_type": "stream",
     "text": [
      "Доверительный интервал (-0.8055422834926164, 2.326762931153069)\n"
     ]
    }
   ],
   "source": [
    "intervals(test_group_PS4, 'money', alpha = 0.95)"
   ]
  },
  {
   "cell_type": "markdown",
   "id": "07c41a7f-a16e-4e10-9b5a-6abd392e35ce",
   "metadata": {},
   "source": [
    "### контрольная группа для игроков на PS4"
   ]
  },
  {
   "cell_type": "code",
   "execution_count": 198,
   "id": "0ae3f2b9-2092-4af3-93e7-cbc67f4d1cf1",
   "metadata": {},
   "outputs": [
    {
     "name": "stdout",
     "output_type": "stream",
     "text": [
      "ARPU 5.737646937776687\n",
      "ARPPU 5.739466416685665\n"
     ]
    }
   ],
   "source": [
    "metrica(control_group_PS4)"
   ]
  },
  {
   "cell_type": "code",
   "execution_count": 199,
   "id": "b6c76775-bced-465d-9895-6ce64631d722",
   "metadata": {},
   "outputs": [
    {
     "data": {
      "image/png": "[encoded data removed]",
      "text/plain": [
       "<Figure size 640x480 with 1 Axes>"
      ]
     },
     "metadata": {},
     "output_type": "display_data"
    },
    {
     "name": "stdout",
     "output_type": "stream",
     "text": [
      "Эксцесс  -0.04901753694799815\n",
      "Ассиметрия  0.22509134946442036\n"
     ]
    },
    {
     "data": {
      "image/png": "[encoded data removed]",
      "text/plain": [
       "<Figure size 640x480 with 1 Axes>"
      ]
     },
     "metadata": {},
     "output_type": "display_data"
    },
    {
     "name": "stdout",
     "output_type": "stream",
     "text": [
      "Эксцесс  -0.03658336978708654\n",
      "Ассиметрия  0.21783101352028067\n"
     ]
    }
   ],
   "source": [
    "grafics(control_group_PS4)"
   ]
  },
  {
   "cell_type": "code",
   "execution_count": 200,
   "id": "b3796e53-6e81-40ff-9285-710ba30027d8",
   "metadata": {},
   "outputs": [
    {
     "name": "stdout",
     "output_type": "stream",
     "text": [
      "Доверительный интервал (-0.7988339758663355, 2.2332457103105074)\n"
     ]
    }
   ],
   "source": [
    "intervals(control_group_PS4, 'money', alpha = 0.95)"
   ]
  },
  {
   "cell_type": "markdown",
   "id": "79550f56-8515-4c8c-98a5-2eb6f09a89dd",
   "metadata": {},
   "source": [
    "Интервалы также пересекаются, результаты от акции получены случайно, но метрики ARPU и ARPPU больше для тестовой выборки. Значит акция немного подействовала на игроков на PS4 но хуже, чем на игроков на ПК, так как ARPU ARPPU меньше чем у игроков на ПК"
   ]
  },
  {
   "cell_type": "markdown",
   "id": "36b823b7-99a1-44ed-a69e-5f1ba5e5897c",
   "metadata": {},
   "source": [
    "### тестовая группа для игроков на Xbox"
   ]
  },
  {
   "cell_type": "code",
   "execution_count": 201,
   "id": "2b95a036-72b0-4fa4-bf91-3dcb56be88a9",
   "metadata": {},
   "outputs": [
    {
     "name": "stdout",
     "output_type": "stream",
     "text": [
      "ARPU 6.1327659279086175\n",
      "ARPPU 6.133685587336844\n"
     ]
    }
   ],
   "source": [
    "metrica(test_group_Xbox)"
   ]
  },
  {
   "cell_type": "code",
   "execution_count": 202,
   "id": "e5351f32-61d3-44bf-a1de-e038e218ab1b",
   "metadata": {},
   "outputs": [
    {
     "data": {
      "image/png": "[encoded data removed]",
      "text/plain": [
       "<Figure size 640x480 with 1 Axes>"
      ]
     },
     "metadata": {},
     "output_type": "display_data"
    },
    {
     "name": "stdout",
     "output_type": "stream",
     "text": [
      "Эксцесс  0.004957897919129817\n",
      "Ассиметрия  0.24190226379422552\n"
     ]
    },
    {
     "data": {
      "image/png": "[encoded data removed]",
      "text/plain": [
       "<Figure size 640x480 with 1 Axes>"
      ]
     },
     "metadata": {},
     "output_type": "display_data"
    },
    {
     "name": "stdout",
     "output_type": "stream",
     "text": [
      "Эксцесс  0.012458503010370325\n",
      "Ассиметрия  0.23785999509845931\n"
     ]
    }
   ],
   "source": [
    "grafics(test_group_Xbox)"
   ]
  },
  {
   "cell_type": "code",
   "execution_count": 203,
   "id": "073cc9b9-c5e5-4f79-822c-4d9fcd0c8038",
   "metadata": {},
   "outputs": [
    {
     "name": "stdout",
     "output_type": "stream",
     "text": [
      "Доверительный интервал (-0.8219481625618549, 2.355139644539009)\n"
     ]
    }
   ],
   "source": [
    "intervals(test_group_Xbox, 'money', alpha = 0.95)"
   ]
  },
  {
   "cell_type": "markdown",
   "id": "07e40f26-21de-49a3-b83f-955c072ada2b",
   "metadata": {},
   "source": [
    "### контрольная группа для игроков на PS4"
   ]
  },
  {
   "cell_type": "code",
   "execution_count": 204,
   "id": "8d3cf83e-847d-4764-a61d-2cbbf6272539",
   "metadata": {},
   "outputs": [
    {
     "name": "stdout",
     "output_type": "stream",
     "text": [
      "ARPU 6.103520877781164\n",
      "ARPPU 6.104434234154337\n"
     ]
    }
   ],
   "source": [
    "metrica(control_group_Xbox)"
   ]
  },
  {
   "cell_type": "code",
   "execution_count": 205,
   "id": "4e6e81ec-86d1-40ae-9498-6e2b4decbaff",
   "metadata": {},
   "outputs": [
    {
     "name": "stdout",
     "output_type": "stream",
     "text": [
      "Доверительный интервал (-0.8113522550475255, 2.3372324744928163)\n"
     ]
    }
   ],
   "source": [
    "intervals(control_group_Xbox, 'money', alpha = 0.95)"
   ]
  },
  {
   "cell_type": "code",
   "execution_count": 206,
   "id": "3fba46d0-fcf7-4106-89bf-89d5e7d1667e",
   "metadata": {},
   "outputs": [
    {
     "data": {
      "image/png": "[encoded data removed]",
      "text/plain": [
       "<Figure size 640x480 with 1 Axes>"
      ]
     },
     "metadata": {},
     "output_type": "display_data"
    },
    {
     "name": "stdout",
     "output_type": "stream",
     "text": [
      "Эксцесс  7.173932957060813e-05\n",
      "Ассиметрия  0.23727420948058608\n"
     ]
    },
    {
     "data": {
      "image/png": "[encoded data removed]",
      "text/plain": [
       "<Figure size 640x480 with 1 Axes>"
      ]
     },
     "metadata": {},
     "output_type": "display_data"
    },
    {
     "name": "stdout",
     "output_type": "stream",
     "text": [
      "Эксцесс  0.007546259405377231\n",
      "Ассиметрия  0.23325578640234226\n"
     ]
    }
   ],
   "source": [
    "grafics(control_group_Xbox)"
   ]
  },
  {
   "cell_type": "markdown",
   "id": "3428b17f-03d4-4ab7-843c-eee60ec8664d",
   "metadata": {},
   "source": [
    "На игроков Xbox акция вообще почти не подействовала"
   ]
  },
  {
   "cell_type": "markdown",
   "id": "8e1eec42",
   "metadata": {},
   "source": [
    "### ШАГ 4 Подготовка данных для Power BI и Excel"
   ]
  },
  {
   "cell_type": "code",
   "execution_count": 207,
   "id": "8b570ffc",
   "metadata": {},
   "outputs": [],
   "source": [
    "test_group = players[players['group'] == 'test']\n",
    "control_group = players[players['group'] == 'control']"
   ]
  },
  {
   "cell_type": "code",
   "execution_count": 208,
   "id": "640b9acd-6941-4218-b36f-01f99db96849",
   "metadata": {},
   "outputs": [],
   "source": [
    "test_group_power = test_group.pivot_table(\n",
    "    index=['date'], values=['cash','money','user_id'], aggfunc={'cash':\"sum\", 'money':\"sum\",'user_id':\"count\"}).reset_index()"
   ]
  },
  {
   "cell_type": "code",
   "execution_count": 209,
   "id": "065f1273-26ab-432c-b13e-44f05268498d",
   "metadata": {},
   "outputs": [
    {
     "data": {
      "text/html": [
       "<div>\n",
       "<style scoped>\n",
       "    .dataframe tbody tr th:only-of-type {\n",
       "        vertical-align: middle;\n",
       "    }\n",
       "\n",
       "    .dataframe tbody tr th {\n",
       "        vertical-align: top;\n",
       "    }\n",
       "\n",
       "    .dataframe thead th {\n",
       "        text-align: right;\n",
       "    }\n",
       "</style>\n",
       "<table border=\"1\" class=\"dataframe\">\n",
       "  <thead>\n",
       "    <tr style=\"text-align: right;\">\n",
       "      <th></th>\n",
       "      <th>user_id</th>\n",
       "      <th>group</th>\n",
       "      <th>date</th>\n",
       "      <th>cash</th>\n",
       "      <th>money</th>\n",
       "      <th>cheaters</th>\n",
       "      <th>platform</th>\n",
       "    </tr>\n",
       "  </thead>\n",
       "  <tbody>\n",
       "    <tr>\n",
       "      <th>8</th>\n",
       "      <td>2AXN3D-71ZN86</td>\n",
       "      <td>test</td>\n",
       "      <td>2021-07-13</td>\n",
       "      <td>500</td>\n",
       "      <td>0.0</td>\n",
       "      <td>0</td>\n",
       "      <td>PC</td>\n",
       "    </tr>\n",
       "    <tr>\n",
       "      <th>9</th>\n",
       "      <td>2AXN3D-71ZN86</td>\n",
       "      <td>test</td>\n",
       "      <td>2021-07-10</td>\n",
       "      <td>550</td>\n",
       "      <td>0.0</td>\n",
       "      <td>0</td>\n",
       "      <td>PC</td>\n",
       "    </tr>\n",
       "    <tr>\n",
       "      <th>10</th>\n",
       "      <td>2AXN3D-71ZN86</td>\n",
       "      <td>test</td>\n",
       "      <td>2021-07-14</td>\n",
       "      <td>1700</td>\n",
       "      <td>1.0</td>\n",
       "      <td>0</td>\n",
       "      <td>PC</td>\n",
       "    </tr>\n",
       "    <tr>\n",
       "      <th>11</th>\n",
       "      <td>2AXN3D-71ZN86</td>\n",
       "      <td>test</td>\n",
       "      <td>2021-07-15</td>\n",
       "      <td>600</td>\n",
       "      <td>0.0</td>\n",
       "      <td>0</td>\n",
       "      <td>PC</td>\n",
       "    </tr>\n",
       "    <tr>\n",
       "      <th>12</th>\n",
       "      <td>2AXN3D-71ZN86</td>\n",
       "      <td>test</td>\n",
       "      <td>2021-07-17</td>\n",
       "      <td>0</td>\n",
       "      <td>0.0</td>\n",
       "      <td>0</td>\n",
       "      <td>PC</td>\n",
       "    </tr>\n",
       "    <tr>\n",
       "      <th>...</th>\n",
       "      <td>...</td>\n",
       "      <td>...</td>\n",
       "      <td>...</td>\n",
       "      <td>...</td>\n",
       "      <td>...</td>\n",
       "      <td>...</td>\n",
       "      <td>...</td>\n",
       "    </tr>\n",
       "    <tr>\n",
       "      <th>8639963</th>\n",
       "      <td>YO85DZ-Q7ZCCH</td>\n",
       "      <td>test</td>\n",
       "      <td>2021-07-14</td>\n",
       "      <td>1200</td>\n",
       "      <td>2.0</td>\n",
       "      <td>0</td>\n",
       "      <td>PS4</td>\n",
       "    </tr>\n",
       "    <tr>\n",
       "      <th>8639964</th>\n",
       "      <td>YO85DZ-Q7ZCCH</td>\n",
       "      <td>test</td>\n",
       "      <td>2021-07-11</td>\n",
       "      <td>1550</td>\n",
       "      <td>1.0</td>\n",
       "      <td>0</td>\n",
       "      <td>PS4</td>\n",
       "    </tr>\n",
       "    <tr>\n",
       "      <th>8639965</th>\n",
       "      <td>YO85DZ-Q7ZCCH</td>\n",
       "      <td>test</td>\n",
       "      <td>2021-07-16</td>\n",
       "      <td>150</td>\n",
       "      <td>0.0</td>\n",
       "      <td>0</td>\n",
       "      <td>PS4</td>\n",
       "    </tr>\n",
       "    <tr>\n",
       "      <th>8639966</th>\n",
       "      <td>YO85DZ-Q7ZCCH</td>\n",
       "      <td>test</td>\n",
       "      <td>2021-07-17</td>\n",
       "      <td>0</td>\n",
       "      <td>0.0</td>\n",
       "      <td>0</td>\n",
       "      <td>PS4</td>\n",
       "    </tr>\n",
       "    <tr>\n",
       "      <th>8639967</th>\n",
       "      <td>YO85DZ-Q7ZCCH</td>\n",
       "      <td>test</td>\n",
       "      <td>2021-07-15</td>\n",
       "      <td>950</td>\n",
       "      <td>1.0</td>\n",
       "      <td>0</td>\n",
       "      <td>PS4</td>\n",
       "    </tr>\n",
       "  </tbody>\n",
       "</table>\n",
       "<p>4314496 rows × 7 columns</p>\n",
       "</div>"
      ],
      "text/plain": [
       "               user_id group        date  cash  money  cheaters platform\n",
       "8        2AXN3D-71ZN86  test  2021-07-13   500    0.0         0       PC\n",
       "9        2AXN3D-71ZN86  test  2021-07-10   550    0.0         0       PC\n",
       "10       2AXN3D-71ZN86  test  2021-07-14  1700    1.0         0       PC\n",
       "11       2AXN3D-71ZN86  test  2021-07-15   600    0.0         0       PC\n",
       "12       2AXN3D-71ZN86  test  2021-07-17     0    0.0         0       PC\n",
       "...                ...   ...         ...   ...    ...       ...      ...\n",
       "8639963  YO85DZ-Q7ZCCH  test  2021-07-14  1200    2.0         0      PS4\n",
       "8639964  YO85DZ-Q7ZCCH  test  2021-07-11  1550    1.0         0      PS4\n",
       "8639965  YO85DZ-Q7ZCCH  test  2021-07-16   150    0.0         0      PS4\n",
       "8639966  YO85DZ-Q7ZCCH  test  2021-07-17     0    0.0         0      PS4\n",
       "8639967  YO85DZ-Q7ZCCH  test  2021-07-15   950    1.0         0      PS4\n",
       "\n",
       "[4314496 rows x 7 columns]"
      ]
     },
     "execution_count": 209,
     "metadata": {},
     "output_type": "execute_result"
    }
   ],
   "source": [
    "test_group"
   ]
  },
  {
   "cell_type": "code",
   "execution_count": 210,
   "id": "25aa9218-234b-4d64-8777-0ef837946022",
   "metadata": {},
   "outputs": [],
   "source": [
    "test_group_pay = test_group[test_group['money'] > 0]"
   ]
  },
  {
   "cell_type": "code",
   "execution_count": 211,
   "id": "d059f9c1-a5c9-4971-99b2-12eafb99fb87",
   "metadata": {},
   "outputs": [],
   "source": [
    "test_group_pay = test_group_pay.pivot_table(\n",
    "    index=['date'], values=['user_id','cash'], aggfunc={'user_id':\"count\", 'cash':\"sum\"}).reset_index()"
   ]
  },
  {
   "cell_type": "code",
   "execution_count": 212,
   "id": "ffeebee7-ee84-4e0c-a89a-86af38cdafc1",
   "metadata": {},
   "outputs": [],
   "source": [
    "powerbi_test = test_group_power.merge(test_group_pay, on = 'date')"
   ]
  },
  {
   "cell_type": "code",
   "execution_count": 213,
   "id": "e4eaf58f-da6c-41fc-aa6d-c7910d004849",
   "metadata": {},
   "outputs": [],
   "source": [
    "powerbi_test = powerbi_test.rename(columns={\"cash_x\": \"cash_all_users\", \"cash_y\": \"cash_paying_users\", \"user_id_x\": \"count_all_users\", \"user_id_y\": \"count_paying_users\"})"
   ]
  },
  {
   "cell_type": "code",
   "execution_count": 214,
   "id": "d776e925-c015-4393-ace7-c99b51245a7b",
   "metadata": {},
   "outputs": [
    {
     "data": {
      "text/html": [
       "<div>\n",
       "<style scoped>\n",
       "    .dataframe tbody tr th:only-of-type {\n",
       "        vertical-align: middle;\n",
       "    }\n",
       "\n",
       "    .dataframe tbody tr th {\n",
       "        vertical-align: top;\n",
       "    }\n",
       "\n",
       "    .dataframe thead th {\n",
       "        text-align: right;\n",
       "    }\n",
       "</style>\n",
       "<table border=\"1\" class=\"dataframe\">\n",
       "  <thead>\n",
       "    <tr style=\"text-align: right;\">\n",
       "      <th></th>\n",
       "      <th>date</th>\n",
       "      <th>cash_all_users</th>\n",
       "      <th>money</th>\n",
       "      <th>count_all_users</th>\n",
       "      <th>cash_paying_users</th>\n",
       "      <th>count_paying_users</th>\n",
       "    </tr>\n",
       "  </thead>\n",
       "  <tbody>\n",
       "    <tr>\n",
       "      <th>0</th>\n",
       "      <td>2021-07-10</td>\n",
       "      <td>439980100</td>\n",
       "      <td>410,341.9</td>\n",
       "      <td>539312</td>\n",
       "      <td>348431750</td>\n",
       "      <td>335806</td>\n",
       "    </tr>\n",
       "    <tr>\n",
       "      <th>1</th>\n",
       "      <td>2021-07-11</td>\n",
       "      <td>440212450</td>\n",
       "      <td>410,937.9</td>\n",
       "      <td>539312</td>\n",
       "      <td>348673550</td>\n",
       "      <td>336006</td>\n",
       "    </tr>\n",
       "    <tr>\n",
       "      <th>2</th>\n",
       "      <td>2021-07-12</td>\n",
       "      <td>437566350</td>\n",
       "      <td>409,077.7</td>\n",
       "      <td>539312</td>\n",
       "      <td>345929850</td>\n",
       "      <td>334928</td>\n",
       "    </tr>\n",
       "    <tr>\n",
       "      <th>3</th>\n",
       "      <td>2021-07-13</td>\n",
       "      <td>428022700</td>\n",
       "      <td>400,947.8</td>\n",
       "      <td>539312</td>\n",
       "      <td>335419800</td>\n",
       "      <td>329120</td>\n",
       "    </tr>\n",
       "    <tr>\n",
       "      <th>4</th>\n",
       "      <td>2021-07-14</td>\n",
       "      <td>402593600</td>\n",
       "      <td>383,022.8</td>\n",
       "      <td>539312</td>\n",
       "      <td>310182100</td>\n",
       "      <td>317418</td>\n",
       "    </tr>\n",
       "    <tr>\n",
       "      <th>5</th>\n",
       "      <td>2021-07-15</td>\n",
       "      <td>356375500</td>\n",
       "      <td>353,538.5</td>\n",
       "      <td>539312</td>\n",
       "      <td>268524300</td>\n",
       "      <td>297646</td>\n",
       "    </tr>\n",
       "    <tr>\n",
       "      <th>6</th>\n",
       "      <td>2021-07-16</td>\n",
       "      <td>290573050</td>\n",
       "      <td>314,611.7</td>\n",
       "      <td>539312</td>\n",
       "      <td>212012050</td>\n",
       "      <td>271526</td>\n",
       "    </tr>\n",
       "    <tr>\n",
       "      <th>7</th>\n",
       "      <td>2021-07-17</td>\n",
       "      <td>564372300</td>\n",
       "      <td>640,910.7</td>\n",
       "      <td>539312</td>\n",
       "      <td>532577750</td>\n",
       "      <td>329332</td>\n",
       "    </tr>\n",
       "  </tbody>\n",
       "</table>\n",
       "</div>"
      ],
      "text/plain": [
       "         date  cash_all_users     money  count_all_users  cash_paying_users  \\\n",
       "0  2021-07-10       439980100 410,341.9           539312          348431750   \n",
       "1  2021-07-11       440212450 410,937.9           539312          348673550   \n",
       "2  2021-07-12       437566350 409,077.7           539312          345929850   \n",
       "3  2021-07-13       428022700 400,947.8           539312          335419800   \n",
       "4  2021-07-14       402593600 383,022.8           539312          310182100   \n",
       "5  2021-07-15       356375500 353,538.5           539312          268524300   \n",
       "6  2021-07-16       290573050 314,611.7           539312          212012050   \n",
       "7  2021-07-17       564372300 640,910.7           539312          532577750   \n",
       "\n",
       "   count_paying_users  \n",
       "0              335806  \n",
       "1              336006  \n",
       "2              334928  \n",
       "3              329120  \n",
       "4              317418  \n",
       "5              297646  \n",
       "6              271526  \n",
       "7              329332  "
      ]
     },
     "execution_count": 214,
     "metadata": {},
     "output_type": "execute_result"
    }
   ],
   "source": [
    "powerbi_test"
   ]
  },
  {
   "cell_type": "code",
   "execution_count": 215,
   "id": "0bc66e56-b07b-43c6-b268-af5b6085c894",
   "metadata": {},
   "outputs": [],
   "source": [
    "powerbi_test['ARPU'] = powerbi_test['money'] / powerbi_test['count_all_users']\n",
    "powerbi_test['ARPPU'] = powerbi_test['money'] / powerbi_test['count_paying_users']"
   ]
  },
  {
   "cell_type": "code",
   "execution_count": 216,
   "id": "3237c2b1-1415-41f5-8a3d-15624e252700",
   "metadata": {},
   "outputs": [
    {
     "data": {
      "text/html": [
       "<div>\n",
       "<style scoped>\n",
       "    .dataframe tbody tr th:only-of-type {\n",
       "        vertical-align: middle;\n",
       "    }\n",
       "\n",
       "    .dataframe tbody tr th {\n",
       "        vertical-align: top;\n",
       "    }\n",
       "\n",
       "    .dataframe thead th {\n",
       "        text-align: right;\n",
       "    }\n",
       "</style>\n",
       "<table border=\"1\" class=\"dataframe\">\n",
       "  <thead>\n",
       "    <tr style=\"text-align: right;\">\n",
       "      <th></th>\n",
       "      <th>date</th>\n",
       "      <th>cash_all_users</th>\n",
       "      <th>money</th>\n",
       "      <th>count_all_users</th>\n",
       "      <th>cash_paying_users</th>\n",
       "      <th>count_paying_users</th>\n",
       "      <th>ARPU</th>\n",
       "      <th>ARPPU</th>\n",
       "    </tr>\n",
       "  </thead>\n",
       "  <tbody>\n",
       "    <tr>\n",
       "      <th>0</th>\n",
       "      <td>2021-07-10</td>\n",
       "      <td>439980100</td>\n",
       "      <td>410,341.9</td>\n",
       "      <td>539312</td>\n",
       "      <td>348431750</td>\n",
       "      <td>335806</td>\n",
       "      <td>0.8</td>\n",
       "      <td>1.2</td>\n",
       "    </tr>\n",
       "    <tr>\n",
       "      <th>1</th>\n",
       "      <td>2021-07-11</td>\n",
       "      <td>440212450</td>\n",
       "      <td>410,937.9</td>\n",
       "      <td>539312</td>\n",
       "      <td>348673550</td>\n",
       "      <td>336006</td>\n",
       "      <td>0.8</td>\n",
       "      <td>1.2</td>\n",
       "    </tr>\n",
       "    <tr>\n",
       "      <th>2</th>\n",
       "      <td>2021-07-12</td>\n",
       "      <td>437566350</td>\n",
       "      <td>409,077.7</td>\n",
       "      <td>539312</td>\n",
       "      <td>345929850</td>\n",
       "      <td>334928</td>\n",
       "      <td>0.8</td>\n",
       "      <td>1.2</td>\n",
       "    </tr>\n",
       "    <tr>\n",
       "      <th>3</th>\n",
       "      <td>2021-07-13</td>\n",
       "      <td>428022700</td>\n",
       "      <td>400,947.8</td>\n",
       "      <td>539312</td>\n",
       "      <td>335419800</td>\n",
       "      <td>329120</td>\n",
       "      <td>0.7</td>\n",
       "      <td>1.2</td>\n",
       "    </tr>\n",
       "    <tr>\n",
       "      <th>4</th>\n",
       "      <td>2021-07-14</td>\n",
       "      <td>402593600</td>\n",
       "      <td>383,022.8</td>\n",
       "      <td>539312</td>\n",
       "      <td>310182100</td>\n",
       "      <td>317418</td>\n",
       "      <td>0.7</td>\n",
       "      <td>1.2</td>\n",
       "    </tr>\n",
       "    <tr>\n",
       "      <th>5</th>\n",
       "      <td>2021-07-15</td>\n",
       "      <td>356375500</td>\n",
       "      <td>353,538.5</td>\n",
       "      <td>539312</td>\n",
       "      <td>268524300</td>\n",
       "      <td>297646</td>\n",
       "      <td>0.7</td>\n",
       "      <td>1.2</td>\n",
       "    </tr>\n",
       "    <tr>\n",
       "      <th>6</th>\n",
       "      <td>2021-07-16</td>\n",
       "      <td>290573050</td>\n",
       "      <td>314,611.7</td>\n",
       "      <td>539312</td>\n",
       "      <td>212012050</td>\n",
       "      <td>271526</td>\n",
       "      <td>0.6</td>\n",
       "      <td>1.2</td>\n",
       "    </tr>\n",
       "    <tr>\n",
       "      <th>7</th>\n",
       "      <td>2021-07-17</td>\n",
       "      <td>564372300</td>\n",
       "      <td>640,910.7</td>\n",
       "      <td>539312</td>\n",
       "      <td>532577750</td>\n",
       "      <td>329332</td>\n",
       "      <td>1.2</td>\n",
       "      <td>1.9</td>\n",
       "    </tr>\n",
       "  </tbody>\n",
       "</table>\n",
       "</div>"
      ],
      "text/plain": [
       "         date  cash_all_users     money  count_all_users  cash_paying_users  \\\n",
       "0  2021-07-10       439980100 410,341.9           539312          348431750   \n",
       "1  2021-07-11       440212450 410,937.9           539312          348673550   \n",
       "2  2021-07-12       437566350 409,077.7           539312          345929850   \n",
       "3  2021-07-13       428022700 400,947.8           539312          335419800   \n",
       "4  2021-07-14       402593600 383,022.8           539312          310182100   \n",
       "5  2021-07-15       356375500 353,538.5           539312          268524300   \n",
       "6  2021-07-16       290573050 314,611.7           539312          212012050   \n",
       "7  2021-07-17       564372300 640,910.7           539312          532577750   \n",
       "\n",
       "   count_paying_users  ARPU  ARPPU  \n",
       "0              335806   0.8    1.2  \n",
       "1              336006   0.8    1.2  \n",
       "2              334928   0.8    1.2  \n",
       "3              329120   0.7    1.2  \n",
       "4              317418   0.7    1.2  \n",
       "5              297646   0.7    1.2  \n",
       "6              271526   0.6    1.2  \n",
       "7              329332   1.2    1.9  "
      ]
     },
     "execution_count": 216,
     "metadata": {},
     "output_type": "execute_result"
    }
   ],
   "source": [
    "powerbi_test"
   ]
  },
  {
   "cell_type": "code",
   "execution_count": 217,
   "id": "3d10c5a1",
   "metadata": {},
   "outputs": [],
   "source": [
    "powerbi_test.to_csv('power_test.csv',index=False)"
   ]
  },
  {
   "cell_type": "markdown",
   "id": "9c1474f8",
   "metadata": {},
   "source": [
    "### повторим то же самое для контрольной группы"
   ]
  },
  {
   "cell_type": "code",
   "execution_count": 218,
   "id": "d70a4f11-9f7f-4c1d-beb3-9e876ff16d8c",
   "metadata": {},
   "outputs": [],
   "source": [
    "control_group_power = control_group.pivot_table(\n",
    "    index=['date'], values=['cash','money','user_id'], aggfunc={'cash':\"sum\", 'money':\"sum\",'user_id':\"count\"}).reset_index()"
   ]
  },
  {
   "cell_type": "code",
   "execution_count": 219,
   "id": "2cdd18fa-7383-4854-8ee6-d3fe726a6c85",
   "metadata": {},
   "outputs": [],
   "source": [
    "control_group_pay = control_group[control_group['money'] > 0]"
   ]
  },
  {
   "cell_type": "code",
   "execution_count": 220,
   "id": "7cdf144e-810a-42bd-9496-378412f92959",
   "metadata": {},
   "outputs": [],
   "source": [
    "control_group_pay = control_group_pay.pivot_table(\n",
    "    index=['date'], values=['user_id','cash'], aggfunc={'user_id':\"count\", 'cash':\"sum\"}).reset_index()"
   ]
  },
  {
   "cell_type": "code",
   "execution_count": 221,
   "id": "bb504ef9-640a-433e-84a1-da7d8cf5083a",
   "metadata": {},
   "outputs": [],
   "source": [
    "powerbi_control = control_group_power.merge(control_group_pay, on = 'date')"
   ]
  },
  {
   "cell_type": "code",
   "execution_count": 222,
   "id": "2ed827e7-eb5e-4fb2-872a-72ed5c4aade5",
   "metadata": {},
   "outputs": [],
   "source": [
    "powerbi_control = powerbi_control.rename(columns={\"cash_x\": \"cash_all_users\", \"cash_y\": \"cash_paying_users\", \"user_id_x\": \"count_all_users\", \"user_id_y\": \"count_paying_users\"})"
   ]
  },
  {
   "cell_type": "code",
   "execution_count": 223,
   "id": "16026c63-e9e0-403a-b367-99ac97cc0780",
   "metadata": {},
   "outputs": [],
   "source": [
    "powerbi_control['ARPU'] = powerbi_control['money'] / powerbi_control['count_all_users']\n",
    "powerbi_control['ARPPU'] = powerbi_control['money'] / powerbi_control['count_paying_users']"
   ]
  },
  {
   "cell_type": "code",
   "execution_count": 224,
   "id": "99ca7a01",
   "metadata": {},
   "outputs": [],
   "source": [
    "powerbi_control.to_csv('power_control.csv',index=False)"
   ]
  },
  {
   "cell_type": "code",
   "execution_count": 234,
   "id": "4e078b76-6ee7-4218-9f6f-f8514edca24a",
   "metadata": {},
   "outputs": [],
   "source": [
    "excel = players.pivot_table(\n",
    "    index=['platform','group'], values=['money','user_id'], aggfunc={'money':\"sum\",'user_id':\"nunique\"}).reset_index()"
   ]
  },
  {
   "cell_type": "code",
   "execution_count": 235,
   "id": "0d75c23f-7ec2-4837-bcbe-2a6096f6ad84",
   "metadata": {},
   "outputs": [],
   "source": [
    "excel['ARPU'] = excel['money'] / excel['user_id']\n",
    "excel = excel.rename(columns={\"user_id\": \"users\"})"
   ]
  },
  {
   "cell_type": "code",
   "execution_count": 236,
   "id": "e1308739-c486-4099-bf5c-77ff7e84431b",
   "metadata": {},
   "outputs": [],
   "source": [
    "excel.to_excel('table.xlsx')"
   ]
  },
  {
   "cell_type": "code",
   "execution_count": 237,
   "id": "1058b462-de2a-4cc8-ac40-943c838f025a",
   "metadata": {},
   "outputs": [
    {
     "data": {
      "text/html": [
       "<div>\n",
       "<style scoped>\n",
       "    .dataframe tbody tr th:only-of-type {\n",
       "        vertical-align: middle;\n",
       "    }\n",
       "\n",
       "    .dataframe tbody tr th {\n",
       "        vertical-align: top;\n",
       "    }\n",
       "\n",
       "    .dataframe thead th {\n",
       "        text-align: right;\n",
       "    }\n",
       "</style>\n",
       "<table border=\"1\" class=\"dataframe\">\n",
       "  <thead>\n",
       "    <tr style=\"text-align: right;\">\n",
       "      <th></th>\n",
       "      <th>platform</th>\n",
       "      <th>group</th>\n",
       "      <th>money</th>\n",
       "      <th>users</th>\n",
       "      <th>ARPU</th>\n",
       "    </tr>\n",
       "  </thead>\n",
       "  <tbody>\n",
       "    <tr>\n",
       "      <th>0</th>\n",
       "      <td>PC</td>\n",
       "      <td>control</td>\n",
       "      <td>1,014,803.1</td>\n",
       "      <td>179732</td>\n",
       "      <td>5.6</td>\n",
       "    </tr>\n",
       "    <tr>\n",
       "      <th>1</th>\n",
       "      <td>PC</td>\n",
       "      <td>test</td>\n",
       "      <td>1,127,299.9</td>\n",
       "      <td>179820</td>\n",
       "      <td>6.3</td>\n",
       "    </tr>\n",
       "    <tr>\n",
       "      <th>2</th>\n",
       "      <td>PS4</td>\n",
       "      <td>control</td>\n",
       "      <td>1,031,651.9</td>\n",
       "      <td>179804</td>\n",
       "      <td>5.7</td>\n",
       "    </tr>\n",
       "    <tr>\n",
       "      <th>3</th>\n",
       "      <td>PS4</td>\n",
       "      <td>test</td>\n",
       "      <td>1,091,719.2</td>\n",
       "      <td>179415</td>\n",
       "      <td>6.1</td>\n",
       "    </tr>\n",
       "    <tr>\n",
       "      <th>4</th>\n",
       "      <td>XBox</td>\n",
       "      <td>control</td>\n",
       "      <td>1,101,410.9</td>\n",
       "      <td>180455</td>\n",
       "      <td>6.1</td>\n",
       "    </tr>\n",
       "    <tr>\n",
       "      <th>5</th>\n",
       "      <td>XBox</td>\n",
       "      <td>test</td>\n",
       "      <td>1,104,370.1</td>\n",
       "      <td>180077</td>\n",
       "      <td>6.1</td>\n",
       "    </tr>\n",
       "  </tbody>\n",
       "</table>\n",
       "</div>"
      ],
      "text/plain": [
       "  platform    group       money   users  ARPU\n",
       "0       PC  control 1,014,803.1  179732   5.6\n",
       "1       PC     test 1,127,299.9  179820   6.3\n",
       "2      PS4  control 1,031,651.9  179804   5.7\n",
       "3      PS4     test 1,091,719.2  179415   6.1\n",
       "4     XBox  control 1,101,410.9  180455   6.1\n",
       "5     XBox     test 1,104,370.1  180077   6.1"
      ]
     },
     "execution_count": 237,
     "metadata": {},
     "output_type": "execute_result"
    }
   ],
   "source": [
    "excel"
   ]
  },
  {
   "cell_type": "code",
   "execution_count": null,
   "id": "230ae066-7cfd-4887-944a-7f344ad04612",
   "metadata": {},
   "outputs": [],
   "source": []
  }
 ],
 "metadata": {
  "kernelspec": {
   "display_name": "Python 3 (ipykernel)",
   "language": "python",
   "name": "python3"
  },
  "language_info": {
   "codemirror_mode": {
    "name": "ipython",
    "version": 3
   },
   "file_extension": ".py",
   "mimetype": "text/x-python",
   "name": "python",
   "nbconvert_exporter": "python",
   "pygments_lexer": "ipython3",
   "version": "3.12.2"
  }
 },
 "nbformat": 4,
 "nbformat_minor": 5
}
